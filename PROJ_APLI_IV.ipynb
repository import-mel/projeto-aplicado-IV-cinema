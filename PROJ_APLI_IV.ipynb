{
 "cells": [
  {
   "cell_type": "markdown",
   "metadata": {
    "id": "Ux5TSX--qOft"
   },
   "source": [
    "  <img src=\"https://raw.githubusercontent.com/scalabrinig/cdProjetoAplicadoIV/d093146488f56dfcf0ef286bcee8efe0e71b9c76/figuras/mackenzie_logo.jpg\" width=\"25%\" align=\"right\"/>\n",
    "\n",
    "# **PROJETO APLICADO IV - Ciência de Dados EaD - 2025/02**\n",
    "\n",
    "\n",
    "# **Entrega 2**\n",
    "\n",
    "---"
   ]
  },
  {
   "cell_type": "markdown",
   "metadata": {
    "id": "-UJ6Rj9jrJFM"
   },
   "source": [
    "# **Título do Projeto**\n",
    "\n",
    "SÉRIE TEMPORAL: RELATÓRIO DE BILHETERIA DE OBRAS INFORMADAS PELAS EXIBIDORAS"
   ]
  },
  {
   "cell_type": "code",
   "execution_count": 2,
   "metadata": {
    "id": "yky3TEyXoGaY"
   },
   "outputs": [],
   "source": [
    "#@title **Identificação do Grupo e Opção do Projeto**\n",
    "\n",
    "#@markdown Integrantes do Grupo, nome completo em ordem alfabética (*informe: \\<nome\\>, \\<matrícula\\>*)\n",
    "Aluno1 = 'NICOLAS DE SOUZA OCAMPOS, 10416091' #@param {type:\"string\"}\n",
    "Aluno2 = 'ALANIS URQUISA DIAS MOREIRA, 10424448' #@param {type:\"string\"}\n",
    "Aluno3 = 'MARIA EDUARDA DE LIMA, 10414867' #@param {type:\"string\"}\n",
    "Aluno4 = 'MATHEUS PEREIRA FORTUNATO, 10424297' #@param {type:\"string\"}\n"
   ]
  },
  {
   "cell_type": "markdown",
   "metadata": {},
   "source": [
    "# Imports das Bibliotecas"
   ]
  },
  {
   "cell_type": "code",
   "execution_count": 59,
   "metadata": {},
   "outputs": [],
   "source": [
    "import pandas as pd\n",
    "import geopandas as gpd\n",
    "import matplotlib.pyplot as plt\n",
    "import plotly.express as px\n",
    "import json\n",
    "import seaborn as sns\n",
    "import numpy as np\n",
    "import os"
   ]
  },
  {
   "cell_type": "markdown",
   "metadata": {
    "id": "3_YOokpLogtZ"
   },
   "source": [
    "# Introdução\n",
    "\n",
    "Além de entreter, o cinema tem um papel importante na economia, na cultura e na vida das cidades. \n",
    "Quando pensamos no setor de exibição cinematográfica, estamos falando de geração de empregos, movimentação econômica, oferta de lazer e acesso à cultura. \n",
    "No entanto, ainda existem muitas diferenças no acesso a esses espaços entre diferentes regiões, e entender como o público se comporta ao longo do tempo pode ajudar a enfrentar esses desafios.\n",
    "\n",
    "Este projeto nasce justamente da vontade de entender melhor essa realidade por meio de dados. \n",
    "A proposta é aplicar técnicas de análise de séries temporais, uma área da estatística que estuda padrões e tendências em dados que variam com o tempo. \n",
    "Usando informações sobre sessões de cinema no Brasil — como número de espectadores, localização das salas, dados sobre os filmes exibidos e as empresas responsáveis —, o projeto busca criar um modelo que ajude a visualizar como esse setor tem evoluído.\n",
    "\n",
    "## Motivações e Justificativas\n",
    "Apesar da sua importância, o setor de exibição cinematográfica ainda apresenta grandes desigualdades regionais, com acesso limitado em muitos municípios brasileiros, especialmente os mais afastados dos grandes centros urbanos.  \n",
    "\n",
    "Com o avanço das tecnologias e a disponibilidade de dados públicos, surge a oportunidade de usar ferramentas de análise de dados para entender melhor o comportamento do público ao longo do tempo. \n",
    "Através da construção de séries temporais, é possível identificar tendências, sazonalidades, quedas e crescimentos no número de espectadores — informações essenciais para avaliar o desempenho do setor e orientar ações práticas.  \n",
    "\n",
    "Essa análise é relevante não só para os gestores públicos, que podem usá-la para formular políticas culturais mais eficientes, mas também para empreendedores, produtores culturais e investidores. \n",
    "Além disso, os resultados contribuem diretamente para os Objetivos de Desenvolvimento Sustentável (ODS):  \n",
    "- **ODS 8 (Trabalho Decente e Crescimento Econômico)**: ao mostrar como o setor gera renda e empregos formais.  \n",
    "- **ODS 9 (Indústria, Inovação e Infraestrutura)**: ao mapear a presença e evolução das salas de cinema como infraestrutura cultural.  \n",
    "- **ODS 11 (Cidades e Comunidades Sustentáveis)**: ao revelar onde há acesso (ou falta de acesso) a serviços culturais.  \n",
    "\n",
    "Portanto, este projeto parte do entendimento de que dados bem analisados podem transformar o modo como se planeja e investe em cultura no Brasil. A proposta tem potencial de aplicabilidade em políticas públicas, iniciativas privadas e estudos acadêmicos, promovendo uma visão mais completa e estratégica do setor audiovisual.\n",
    "\n",
    "## Objetivo\n",
    "\n",
    "O principal objetivo deste projeto é construir um modelo de série temporal que permita analisar a evolução do setor de exibição cinematográfica no Brasil a partir de dados públicos, com foco em indicadores como número de espectadores, distribuição geográfica das salas de cinema, presença de filmes nacionais e quantidade de exibidoras ativas.\n",
    "\n",
    "A partir desse modelo, buscamos:\n",
    "-   Identificar padrões de comportamento do público (como períodos de alta ou baixa frequência);\n",
    "-   Analisar tendências e sazonalidades no consumo de cinema ao longo dos anos;\n",
    "-   Mapear a infraestrutura de exibição pelo território nacional, destacando possíveis desigualdades regionais;\n",
    "- Avaliar a presença de obras nacionais, observando seu desempenho em comparação com produções estrangeiras;\n",
    "-   Gerar indicadores e visualizações que apoiem políticas culturais e ações de incentivo à indústria audiovisual brasileira;\n",
    "-   Contribuir para os ODS 8, 9 e 11, promovendo desenvolvimento sustentável por meio da cultura.\n",
    "\n",
    "A meta final é transformar dados brutos em informações estratégicas que fortaleçam o setor, ampliem o acesso à cultura e incentivem a criação de políticas mais justas e eficazes para todos os brasileiros.\n"
   ]
  },
  {
   "cell_type": "markdown",
   "metadata": {
    "id": "jE9yYM31oqr3"
   },
   "source": [
    "# Referencial Teórico\n",
    "\n",
    "O referencial teórico deste trabalho está fundamentado na análise de **séries temporais**, que consiste em métodos estatísticos aplicados a dados que variam ao longo do tempo, permitindo identificar tendências, sazonalidades e padrões.  \n",
    "\n",
    "Autores como Box e Jenkins (1976) foram pioneiros no desenvolvimento de modelos de séries temporais, como ARIMA, que permitem a previsão de valores futuros a partir de observações passadas.  \n",
    "Além disso, trabalhos recentes aplicam Machine Learning para melhorar a acurácia de previsões nesse contexto, especialmente em setores como economia e cultura.  \n",
    "\n",
    "No campo da economia criativa e audiovisual, a análise de séries temporais é usada para entender o comportamento de bilheterias, prever demanda e apoiar a formulação de políticas culturais.  \n",
    "Estudos do IBGE (2020) e da ANCINE reforçam a importância de utilizar dados abertos para monitorar a evolução do setor.  \n",
    "\n",
    "Entre as principais vantagens da análise temporal estão:  \n",
    "- Identificação de padrões sazonais e de longo prazo.  \n",
    "- Apoio à tomada de decisão baseada em dados reais.  \n",
    "\n",
    "Como limitações, destacam-se a necessidade de séries históricas longas e consistentes, além da suscetibilidade a eventos externos inesperados (ex.: pandemia da COVID-19).  \n",
    "\n",
    "Referências no corpo do texto (ABNT):\n",
    "- BOX, G. E. P.; JENKINS, G. M. Time Series Analysis: Forecasting and Control. San Francisco: Holden-Day, 1976.  \n",
    "- IBGE. País tem quase 40% da população em municípios sem salas de cinema. Agência de Notícias IBGE, 2020.  \n",
    "- ANCINE; PORTAL BRASILEIRO DE DADOS ABERTOS. Relatório de bilheteria diária de obras informadas pelas exibidoras, 2025.  \n"
   ]
  },
  {
   "cell_type": "markdown",
   "metadata": {
    "id": "Tax--lV7ov7G"
   },
   "source": [
    "# Pipeline da Solução\n",
    "\n",
    "A proposta de pipeline da solução é estruturada em etapas:  \n",
    "\n",
    "1. **Coleta de Dados**  \n",
    "   - Obtenção dos registros da ANCINE disponibilizados no Portal Brasileiro de Dados Abertos.  \n",
    "\n",
    "2. **Pré-processamento**  \n",
    "   - Tratamento de dados faltantes, padronização de datas, limpeza de outliers e conversão para formatos adequados (CSV/JSON).  \n",
    "\n",
    "3. **Exploração dos Dados (EDA)**  \n",
    "   - Análises descritivas, estatísticas básicas e visualizações iniciais (distribuição de público, regionalidade, filmes nacionais vs. estrangeiros).  \n",
    "\n",
    "4. **Modelagem de Séries Temporais**  \n",
    "   - Aplicação de modelos ARIMA, SARIMA e comparações com métodos de aprendizado de máquina (Ex.: LSTM).  \n",
    "\n",
    "5. **Avaliação**  \n",
    "   - Métricas como RMSE, MAPE e comparações visuais entre valores previstos e reais.  \n",
    "\n",
    "6. **Visualização dos Resultados**  \n",
    "   - Gráficos interativos e dashboards que facilitem a interpretação dos padrões e previsões.  \n",
    "\n",
    "7. **Conclusões e Aplicações**  \n",
    "   - Geração de insights para políticas públicas e estratégias privadas no setor audiovisual.  \n"
   ]
  },
  {
   "cell_type": "markdown",
   "metadata": {},
   "source": [
    "# Descrição da Base de Dados\n",
    "\n",
    "A base de dados utilizada neste projeto é disponibilizada pelo Portal Brasileiro de Dados Abertos, organizada pela Agência Nacional do Cinema (ANCINE), sob o título [“Relatório de bilheteria diária de obras informadas pelas exibidoras”](https://dados.gov.br/dados/conjuntos-dados/relatorio-de-bilheteria-diaria-de-obras-informadas-pelas-exibidoras). Esse conjunto reúne informações fornecidas diretamente pelas empresas exibidoras e atualizadas de forma contínua na plataforma oficial de dados abertos do governo.\n",
    "\n",
    "O dataset contém registros diários de bilheteria das salas de cinema no Brasil, abrangendo o período de junho de 2014 até o presente momento (neste trabalho, até 15 de setembro de 2025). A base é atualizada diariamente, garantindo que os dados reflitam a dinâmica mais recente do setor.\n",
    "\n",
    "O dataset apresenta a seguinte estrutura:\n",
    "-   Data da Exibição: data em que a sessão ocorreu.\n",
    "-   Sessão: identificação específica da sessão.\n",
    "-   Título original da obra: nome original do filme.\n",
    "-   Título no Brasil: título utilizado para exibição no mercado brasileiro.\n",
    "-   CPB/ROE: código que identifica a obra (como Classificação de Produto Brasileiro / Registro de Obras Exibidas).\n",
    "-   Áudio: tipo de áudio da exibição (por exemplo, original, dublado).\n",
    "-   Legenda: tipo de legenda presente (se aplicável).\n",
    "-   País: país de origem da obra.\n",
    "-   Registro Sala: código identificador da sala de exibição.\n",
    "-   Nome Sala: nome atribuído à sala específica.\n",
    "-   Público: número de espectadores da sessão.\n",
    "-   Registro do Grupo Exibidor: código do grupo de exibidor responsável.\n",
    "-   Registro Exibidor: identificador da empresa exibidora.\n",
    "-   Registro do Complexo: identificador do complexo (conjunto de salas).\n",
    "-   Município Sala/Complexo: cidade onde a sala ou complexo está localizado.\n",
    "-   UF Sala/Complexo: unidade federativa (estado) da sala ou complexo.\n",
    "-   Razão Social Exibidora: razão social da empresa que exibe o filme.\n",
    "-   CNPJ da Exibidora: número cadastrado da empresa exibidora.\n",
    "\n",
    "Os dados são disponibilizados em arquivos organizados por mês e ano, nos seguintes formatos: CSV, JSON, ODT e XML, o que permite diferentes formas de processamento e análise."
   ]
  },
  {
   "cell_type": "markdown",
   "metadata": {},
   "source": [
    "### Carregamento dos Dados\n",
    "\n",
    "O Portal Brasileiro de Dados Abertos disponibiliza os registros em vários arquivos separados por data. Para simplificar a análise exploratória, o primeiro passo é consolidar esses arquivos em um único arquivo .csv, reunindo todas as informações em uma base integrada."
   ]
  },
  {
   "cell_type": "code",
   "execution_count": 6,
   "metadata": {},
   "outputs": [
    {
     "name": "stdout",
     "output_type": "stream",
     "text": [
      "Arquivos unidos com sucesso! Total de linhas: 33511860\n"
     ]
    }
   ],
   "source": [
    "# Caminho da pasta onde estão os arquivos\n",
    "pasta = \"bilheteria-diaria-obras-por-exibidoras-csv\"\n",
    "\n",
    "# Lista todos os arquivos .csv na pasta\n",
    "arquivos = [f for f in os.listdir(pasta) if f.endswith(\".csv\")]\n",
    "\n",
    "# Lê e concatena todos os CSVs\n",
    "dataframes = []\n",
    "for arquivo in arquivos:\n",
    "    caminho = os.path.join(pasta, arquivo)\n",
    "    df = pd.read_csv(caminho, sep=\";\")\n",
    "    dataframes.append(df)\n",
    "\n",
    "# Junta tudo em um único DataFrame\n",
    "df_final = pd.concat(dataframes, ignore_index=True)\n",
    "df_final.to_csv(\"bilheteria_unificado.csv\", index=False)\n",
    "\n",
    "print(\"Arquivos unidos com sucesso! Total de linhas:\", len(df_final))"
   ]
  },
  {
   "cell_type": "markdown",
   "metadata": {},
   "source": [
    "### Exploração inicial do Dataset\n",
    "\n",
    "Após carregar e consolidar os dados, realizamos alguns passos para conhecer melhor a base:\n",
    "\n",
    "-   df_final.columns: lista o nome de todas as colunas disponíveis no dataset."
   ]
  },
  {
   "cell_type": "code",
   "execution_count": 7,
   "metadata": {},
   "outputs": [
    {
     "data": {
      "text/plain": [
       "Index(['DATA_EXIBICAO', 'SESSAO', 'TITULO_ORIGINAL', 'TITULO_BRASIL',\n",
       "       'CPB_ROE', 'AUDIO', 'LEGENDADA', 'PAIS_OBRA', 'REGISTRO_SALA',\n",
       "       'NOME_SALA', 'PUBLICO', 'REGISTRO_GRUPO_EXIBIDOR', 'REGISTRO_EXIBIDOR',\n",
       "       'REGISTRO_COMPLEXO', 'MUNICIPIO_SALA_COMPLEXO', 'UF_SALA_COMPLEXO',\n",
       "       'RAZAO_SOCIAL_EXIBIDORA', 'CNPJ_EXIBIDORA'],\n",
       "      dtype='object')"
      ]
     },
     "execution_count": 7,
     "metadata": {},
     "output_type": "execute_result"
    }
   ],
   "source": [
    "df_final.columns"
   ]
  },
  {
   "cell_type": "markdown",
   "metadata": {},
   "source": [
    "-   df_final.info(): apresenta uma visão geral da estrutura do dataset, incluindo o número de linhas, colunas, tipos de dados e a presença de valores nulos. No resultado abaixo, observamos que a maioria das colunas está classificada como object. Esse tipo de representação pode não ser o mais adequado para todas as variáveis — por exemplo, colunas que representam datas ou identificadores numéricos podem ser convertidas para tipos mais apropriados. Esse ajuste será realizado na etapa de limpeza e preparação dos dados, garantindo que cada campo tenha o tipo correto e facilitando análises posteriores."
   ]
  },
  {
   "cell_type": "code",
   "execution_count": 8,
   "metadata": {},
   "outputs": [
    {
     "name": "stdout",
     "output_type": "stream",
     "text": [
      "<class 'pandas.core.frame.DataFrame'>\n",
      "RangeIndex: 33511860 entries, 0 to 33511859\n",
      "Data columns (total 18 columns):\n",
      " #   Column                   Dtype  \n",
      "---  ------                   -----  \n",
      " 0   DATA_EXIBICAO            object \n",
      " 1   SESSAO                   object \n",
      " 2   TITULO_ORIGINAL          object \n",
      " 3   TITULO_BRASIL            object \n",
      " 4   CPB_ROE                  object \n",
      " 5   AUDIO                    object \n",
      " 6   LEGENDADA                object \n",
      " 7   PAIS_OBRA                object \n",
      " 8   REGISTRO_SALA            int64  \n",
      " 9   NOME_SALA                object \n",
      " 10  PUBLICO                  int64  \n",
      " 11  REGISTRO_GRUPO_EXIBIDOR  float64\n",
      " 12  REGISTRO_EXIBIDOR        int64  \n",
      " 13  REGISTRO_COMPLEXO        int64  \n",
      " 14  MUNICIPIO_SALA_COMPLEXO  object \n",
      " 15  UF_SALA_COMPLEXO         object \n",
      " 16  RAZAO_SOCIAL_EXIBIDORA   object \n",
      " 17  CNPJ_EXIBIDORA           object \n",
      "dtypes: float64(1), int64(4), object(13)\n",
      "memory usage: 4.5+ GB\n"
     ]
    }
   ],
   "source": [
    "df_final.info()"
   ]
  },
  {
   "cell_type": "markdown",
   "metadata": {},
   "source": [
    "-   df_final.describe(): apresenta estatísticas descritivas das colunas numéricas, como média, mínimo, máximo e quartis, ajudando a identificar padrões iniciais e possíveis outliers. \n",
    "\n",
    "**Observações importantes**\n",
    "\n",
    "-   As colunas REGISTRO_SALA, REGISTRO_GRUPO_EXIBIDOR, REGISTRO_EXIBIDOR, REGISTRO_COMPLEXO não devem ser analisadas como variáveis numéricas no sentido estatístico (média, desvio padrão, etc.), pois são identificadores.\n",
    "\n",
    "-   A coluna que de fato representa um valor quantitativo para análise é PUBLICO, que representa o número de espectadores por sessão. Temos um mínimo de 0 (sessões sem público), média de 32 pessoas por sessão, e máximo de 1.242 pessoas em uma única sessão. A distribuição é assimétrica, com muitas sessões pequenas e algumas com público muito alto.\n"
   ]
  },
  {
   "cell_type": "code",
   "execution_count": 9,
   "metadata": {},
   "outputs": [
    {
     "data": {
      "text/html": [
       "<div>\n",
       "<style scoped>\n",
       "    .dataframe tbody tr th:only-of-type {\n",
       "        vertical-align: middle;\n",
       "    }\n",
       "\n",
       "    .dataframe tbody tr th {\n",
       "        vertical-align: top;\n",
       "    }\n",
       "\n",
       "    .dataframe thead th {\n",
       "        text-align: right;\n",
       "    }\n",
       "</style>\n",
       "<table border=\"1\" class=\"dataframe\">\n",
       "  <thead>\n",
       "    <tr style=\"text-align: right;\">\n",
       "      <th></th>\n",
       "      <th>REGISTRO_SALA</th>\n",
       "      <th>PUBLICO</th>\n",
       "      <th>REGISTRO_GRUPO_EXIBIDOR</th>\n",
       "      <th>REGISTRO_EXIBIDOR</th>\n",
       "      <th>REGISTRO_COMPLEXO</th>\n",
       "    </tr>\n",
       "  </thead>\n",
       "  <tbody>\n",
       "    <tr>\n",
       "      <th>count</th>\n",
       "      <td>3.351186e+07</td>\n",
       "      <td>3.351186e+07</td>\n",
       "      <td>3.165604e+07</td>\n",
       "      <td>3.351186e+07</td>\n",
       "      <td>3.351186e+07</td>\n",
       "    </tr>\n",
       "    <tr>\n",
       "      <th>mean</th>\n",
       "      <td>5.003628e+06</td>\n",
       "      <td>3.263407e+01</td>\n",
       "      <td>6.000032e+06</td>\n",
       "      <td>1.074339e+04</td>\n",
       "      <td>2.143870e+04</td>\n",
       "    </tr>\n",
       "    <tr>\n",
       "      <th>std</th>\n",
       "      <td>2.037338e+03</td>\n",
       "      <td>4.213848e+01</td>\n",
       "      <td>2.653341e+01</td>\n",
       "      <td>1.215983e+04</td>\n",
       "      <td>1.440478e+04</td>\n",
       "    </tr>\n",
       "    <tr>\n",
       "      <th>min</th>\n",
       "      <td>5.000056e+06</td>\n",
       "      <td>0.000000e+00</td>\n",
       "      <td>6.000000e+06</td>\n",
       "      <td>2.600000e+02</td>\n",
       "      <td>4.360000e+02</td>\n",
       "    </tr>\n",
       "    <tr>\n",
       "      <th>25%</th>\n",
       "      <td>5.001931e+06</td>\n",
       "      <td>7.000000e+00</td>\n",
       "      <td>6.000018e+06</td>\n",
       "      <td>1.843000e+03</td>\n",
       "      <td>6.634000e+03</td>\n",
       "    </tr>\n",
       "    <tr>\n",
       "      <th>50%</th>\n",
       "      <td>5.003804e+06</td>\n",
       "      <td>1.700000e+01</td>\n",
       "      <td>6.000024e+06</td>\n",
       "      <td>3.103000e+03</td>\n",
       "      <td>2.254800e+04</td>\n",
       "    </tr>\n",
       "    <tr>\n",
       "      <th>75%</th>\n",
       "      <td>5.005342e+06</td>\n",
       "      <td>4.100000e+01</td>\n",
       "      <td>6.000037e+06</td>\n",
       "      <td>1.726600e+04</td>\n",
       "      <td>3.073300e+04</td>\n",
       "    </tr>\n",
       "    <tr>\n",
       "      <th>max</th>\n",
       "      <td>5.007355e+06</td>\n",
       "      <td>1.242000e+03</td>\n",
       "      <td>6.000205e+06</td>\n",
       "      <td>6.263800e+04</td>\n",
       "      <td>6.303400e+04</td>\n",
       "    </tr>\n",
       "  </tbody>\n",
       "</table>\n",
       "</div>"
      ],
      "text/plain": [
       "       REGISTRO_SALA       PUBLICO  REGISTRO_GRUPO_EXIBIDOR  \\\n",
       "count   3.351186e+07  3.351186e+07             3.165604e+07   \n",
       "mean    5.003628e+06  3.263407e+01             6.000032e+06   \n",
       "std     2.037338e+03  4.213848e+01             2.653341e+01   \n",
       "min     5.000056e+06  0.000000e+00             6.000000e+06   \n",
       "25%     5.001931e+06  7.000000e+00             6.000018e+06   \n",
       "50%     5.003804e+06  1.700000e+01             6.000024e+06   \n",
       "75%     5.005342e+06  4.100000e+01             6.000037e+06   \n",
       "max     5.007355e+06  1.242000e+03             6.000205e+06   \n",
       "\n",
       "       REGISTRO_EXIBIDOR  REGISTRO_COMPLEXO  \n",
       "count       3.351186e+07       3.351186e+07  \n",
       "mean        1.074339e+04       2.143870e+04  \n",
       "std         1.215983e+04       1.440478e+04  \n",
       "min         2.600000e+02       4.360000e+02  \n",
       "25%         1.843000e+03       6.634000e+03  \n",
       "50%         3.103000e+03       2.254800e+04  \n",
       "75%         1.726600e+04       3.073300e+04  \n",
       "max         6.263800e+04       6.303400e+04  "
      ]
     },
     "execution_count": 9,
     "metadata": {},
     "output_type": "execute_result"
    }
   ],
   "source": [
    "df_final.describe()"
   ]
  },
  {
   "cell_type": "markdown",
   "metadata": {},
   "source": [
    "-   df_final.head(10): exibe as 10 primeiras linhas, permitindo visualizar amostras iniciais dos registros."
   ]
  },
  {
   "cell_type": "code",
   "execution_count": 12,
   "metadata": {},
   "outputs": [
    {
     "data": {
      "text/html": [
       "<div>\n",
       "<style scoped>\n",
       "    .dataframe tbody tr th:only-of-type {\n",
       "        vertical-align: middle;\n",
       "    }\n",
       "\n",
       "    .dataframe tbody tr th {\n",
       "        vertical-align: top;\n",
       "    }\n",
       "\n",
       "    .dataframe thead th {\n",
       "        text-align: right;\n",
       "    }\n",
       "</style>\n",
       "<table border=\"1\" class=\"dataframe\">\n",
       "  <thead>\n",
       "    <tr style=\"text-align: right;\">\n",
       "      <th></th>\n",
       "      <th>DATA_EXIBICAO</th>\n",
       "      <th>SESSAO</th>\n",
       "      <th>TITULO_ORIGINAL</th>\n",
       "      <th>TITULO_BRASIL</th>\n",
       "      <th>CPB_ROE</th>\n",
       "      <th>AUDIO</th>\n",
       "      <th>LEGENDADA</th>\n",
       "      <th>PAIS_OBRA</th>\n",
       "      <th>REGISTRO_SALA</th>\n",
       "      <th>NOME_SALA</th>\n",
       "      <th>PUBLICO</th>\n",
       "      <th>REGISTRO_GRUPO_EXIBIDOR</th>\n",
       "      <th>REGISTRO_EXIBIDOR</th>\n",
       "      <th>REGISTRO_COMPLEXO</th>\n",
       "      <th>MUNICIPIO_SALA_COMPLEXO</th>\n",
       "      <th>UF_SALA_COMPLEXO</th>\n",
       "      <th>RAZAO_SOCIAL_EXIBIDORA</th>\n",
       "      <th>CNPJ_EXIBIDORA</th>\n",
       "    </tr>\n",
       "  </thead>\n",
       "  <tbody>\n",
       "    <tr>\n",
       "      <th>0</th>\n",
       "      <td>2022-11-22</td>\n",
       "      <td>22/11/2022 04:45:00</td>\n",
       "      <td>BLACK PANTHER: WAKANDA FOREVER</td>\n",
       "      <td>PANTERA NEGRA: WAKANDA PARA SEMPRE</td>\n",
       "      <td>E2200378300000</td>\n",
       "      <td>DUBLADO</td>\n",
       "      <td>NÃO</td>\n",
       "      <td>ESTADOS UNIDOS</td>\n",
       "      <td>5005785</td>\n",
       "      <td>MOVIEPLEX - SALA 02</td>\n",
       "      <td>10</td>\n",
       "      <td>NaN</td>\n",
       "      <td>36106</td>\n",
       "      <td>36107</td>\n",
       "      <td>TIANGUÁ</td>\n",
       "      <td>CE</td>\n",
       "      <td>MOVIEPLEX ENTRETENIMENTO LTDA -ME</td>\n",
       "      <td>26.756.579/0001-00</td>\n",
       "    </tr>\n",
       "    <tr>\n",
       "      <th>1</th>\n",
       "      <td>2022-11-22</td>\n",
       "      <td>22/11/2022 05:20:00</td>\n",
       "      <td>BLACK PANTHER: WAKANDA FOREVER</td>\n",
       "      <td>PANTERA NEGRA: WAKANDA PARA SEMPRE</td>\n",
       "      <td>E2200378300000</td>\n",
       "      <td>DUBLADO</td>\n",
       "      <td>NÃO</td>\n",
       "      <td>ESTADOS UNIDOS</td>\n",
       "      <td>5005784</td>\n",
       "      <td>MOVIEPLEX - SALA 01</td>\n",
       "      <td>7</td>\n",
       "      <td>NaN</td>\n",
       "      <td>36106</td>\n",
       "      <td>36107</td>\n",
       "      <td>TIANGUÁ</td>\n",
       "      <td>CE</td>\n",
       "      <td>MOVIEPLEX ENTRETENIMENTO LTDA -ME</td>\n",
       "      <td>26.756.579/0001-00</td>\n",
       "    </tr>\n",
       "    <tr>\n",
       "      <th>2</th>\n",
       "      <td>2022-11-22</td>\n",
       "      <td>22/11/2022 06:00:00</td>\n",
       "      <td>BLACK ADAM</td>\n",
       "      <td>ADÃO NEGRO</td>\n",
       "      <td>E2200308100000</td>\n",
       "      <td>DUBLADO</td>\n",
       "      <td>NÃO</td>\n",
       "      <td>ESTADOS UNIDOS</td>\n",
       "      <td>5006082</td>\n",
       "      <td>CINE IMPERIAL 02</td>\n",
       "      <td>3</td>\n",
       "      <td>NaN</td>\n",
       "      <td>40730</td>\n",
       "      <td>40731</td>\n",
       "      <td>SALVADOR</td>\n",
       "      <td>BA</td>\n",
       "      <td>RG PALMA EXIBICAO CINEMATOGRAFICA LTDA</td>\n",
       "      <td>31.159.134/0001-83</td>\n",
       "    </tr>\n",
       "    <tr>\n",
       "      <th>3</th>\n",
       "      <td>2022-11-22</td>\n",
       "      <td>22/11/2022 08:00:00</td>\n",
       "      <td>BLACK PANTHER: WAKANDA FOREVER</td>\n",
       "      <td>PANTERA NEGRA: WAKANDA PARA SEMPRE</td>\n",
       "      <td>E2200378300000</td>\n",
       "      <td>DUBLADO</td>\n",
       "      <td>NÃO</td>\n",
       "      <td>ESTADOS UNIDOS</td>\n",
       "      <td>5005785</td>\n",
       "      <td>MOVIEPLEX - SALA 02</td>\n",
       "      <td>12</td>\n",
       "      <td>NaN</td>\n",
       "      <td>36106</td>\n",
       "      <td>36107</td>\n",
       "      <td>TIANGUÁ</td>\n",
       "      <td>CE</td>\n",
       "      <td>MOVIEPLEX ENTRETENIMENTO LTDA -ME</td>\n",
       "      <td>26.756.579/0001-00</td>\n",
       "    </tr>\n",
       "    <tr>\n",
       "      <th>4</th>\n",
       "      <td>2022-11-22</td>\n",
       "      <td>22/11/2022 08:00:00</td>\n",
       "      <td>ENCANTO</td>\n",
       "      <td>ENCANTO</td>\n",
       "      <td>E2100480200000</td>\n",
       "      <td>DUBLADO</td>\n",
       "      <td>NÃO</td>\n",
       "      <td>ESTADOS UNIDOS</td>\n",
       "      <td>5005641</td>\n",
       "      <td>CINESYSTEM PAULISTA SALA 02</td>\n",
       "      <td>105</td>\n",
       "      <td>6000027.0</td>\n",
       "      <td>22546</td>\n",
       "      <td>33152</td>\n",
       "      <td>PAULISTA</td>\n",
       "      <td>PE</td>\n",
       "      <td>REDECINE BRA CINEMATOGRÁFICA S.A.</td>\n",
       "      <td>15.422.993/0001-67</td>\n",
       "    </tr>\n",
       "    <tr>\n",
       "      <th>5</th>\n",
       "      <td>2022-11-22</td>\n",
       "      <td>22/11/2022 08:00:00</td>\n",
       "      <td>LYLE, LYLE, CROCODILE</td>\n",
       "      <td>LILO, LILO, CROCODILO</td>\n",
       "      <td>E2200256400000</td>\n",
       "      <td>DUBLADO</td>\n",
       "      <td>NÃO</td>\n",
       "      <td>ESTADOS UNIDOS</td>\n",
       "      <td>5006421</td>\n",
       "      <td>GRUPOCINE ITAPECERICA 01</td>\n",
       "      <td>0</td>\n",
       "      <td>6000034.0</td>\n",
       "      <td>44276</td>\n",
       "      <td>44290</td>\n",
       "      <td>ITAPECERICA DA SERRA</td>\n",
       "      <td>SP</td>\n",
       "      <td>EMPRESA CINEMATOGRAFICA BOMBOCINE LTDA</td>\n",
       "      <td>21.298.337/0001-05</td>\n",
       "    </tr>\n",
       "    <tr>\n",
       "      <th>6</th>\n",
       "      <td>2022-11-22</td>\n",
       "      <td>22/11/2022 08:30:00</td>\n",
       "      <td>BLACK PANTHER: WAKANDA FOREVER</td>\n",
       "      <td>PANTERA NEGRA: WAKANDA PARA SEMPRE</td>\n",
       "      <td>E2200378300000</td>\n",
       "      <td>DUBLADO</td>\n",
       "      <td>NÃO</td>\n",
       "      <td>ESTADOS UNIDOS</td>\n",
       "      <td>5005784</td>\n",
       "      <td>MOVIEPLEX - SALA 01</td>\n",
       "      <td>16</td>\n",
       "      <td>NaN</td>\n",
       "      <td>36106</td>\n",
       "      <td>36107</td>\n",
       "      <td>TIANGUÁ</td>\n",
       "      <td>CE</td>\n",
       "      <td>MOVIEPLEX ENTRETENIMENTO LTDA -ME</td>\n",
       "      <td>26.756.579/0001-00</td>\n",
       "    </tr>\n",
       "    <tr>\n",
       "      <th>7</th>\n",
       "      <td>2022-11-22</td>\n",
       "      <td>22/11/2022 08:30:00</td>\n",
       "      <td>LYLE, LYLE, CROCODILE</td>\n",
       "      <td>LILO, LILO, CROCODILO</td>\n",
       "      <td>E2200256400000</td>\n",
       "      <td>DUBLADO</td>\n",
       "      <td>NÃO</td>\n",
       "      <td>ESTADOS UNIDOS</td>\n",
       "      <td>5005808</td>\n",
       "      <td>CINEFLIX APARECIDA DE GOIANIA - SALA 4</td>\n",
       "      <td>17</td>\n",
       "      <td>6000014.0</td>\n",
       "      <td>24534</td>\n",
       "      <td>36838</td>\n",
       "      <td>APARECIDA DE GOIÂNIA</td>\n",
       "      <td>GO</td>\n",
       "      <td>REDECINE BSB CINEMATOGRÁFICA LTDA</td>\n",
       "      <td>18.087.870/0001-05</td>\n",
       "    </tr>\n",
       "    <tr>\n",
       "      <th>8</th>\n",
       "      <td>2022-11-22</td>\n",
       "      <td>22/11/2022 08:30:00</td>\n",
       "      <td>SING 2</td>\n",
       "      <td>SING 2</td>\n",
       "      <td>E2100492600000</td>\n",
       "      <td>DUBLADO</td>\n",
       "      <td>NÃO</td>\n",
       "      <td>ESTADOS UNIDOS</td>\n",
       "      <td>5003571</td>\n",
       "      <td>SALA CIDADE JARDIM NORTE 02</td>\n",
       "      <td>0</td>\n",
       "      <td>6000006.0</td>\n",
       "      <td>2836</td>\n",
       "      <td>22580</td>\n",
       "      <td>SÃO JOSÉ DO RIO PRETO</td>\n",
       "      <td>SP</td>\n",
       "      <td>EMPRESA SAO LUIZ DE CINEMAS LTDA - EM RECUPERA...</td>\n",
       "      <td>52.067.071/0001-05</td>\n",
       "    </tr>\n",
       "    <tr>\n",
       "      <th>9</th>\n",
       "      <td>2022-11-22</td>\n",
       "      <td>22/11/2022 09:00:00</td>\n",
       "      <td>BLACK PANTHER: WAKANDA FOREVER</td>\n",
       "      <td>PANTERA NEGRA: WAKANDA PARA SEMPRE</td>\n",
       "      <td>E2200378300000</td>\n",
       "      <td>DUBLADO</td>\n",
       "      <td>NÃO</td>\n",
       "      <td>ESTADOS UNIDOS</td>\n",
       "      <td>5006511</td>\n",
       "      <td>CINEMARK ITABUNA 03</td>\n",
       "      <td>145</td>\n",
       "      <td>6000018.0</td>\n",
       "      <td>1843</td>\n",
       "      <td>44890</td>\n",
       "      <td>ITABUNA</td>\n",
       "      <td>BA</td>\n",
       "      <td>CINEMARK BRASIL S.A</td>\n",
       "      <td>00.779.721/0001-41</td>\n",
       "    </tr>\n",
       "  </tbody>\n",
       "</table>\n",
       "</div>"
      ],
      "text/plain": [
       "  DATA_EXIBICAO               SESSAO                 TITULO_ORIGINAL  \\\n",
       "0    2022-11-22  22/11/2022 04:45:00  BLACK PANTHER: WAKANDA FOREVER   \n",
       "1    2022-11-22  22/11/2022 05:20:00  BLACK PANTHER: WAKANDA FOREVER   \n",
       "2    2022-11-22  22/11/2022 06:00:00                      BLACK ADAM   \n",
       "3    2022-11-22  22/11/2022 08:00:00  BLACK PANTHER: WAKANDA FOREVER   \n",
       "4    2022-11-22  22/11/2022 08:00:00                         ENCANTO   \n",
       "5    2022-11-22  22/11/2022 08:00:00           LYLE, LYLE, CROCODILE   \n",
       "6    2022-11-22  22/11/2022 08:30:00  BLACK PANTHER: WAKANDA FOREVER   \n",
       "7    2022-11-22  22/11/2022 08:30:00           LYLE, LYLE, CROCODILE   \n",
       "8    2022-11-22  22/11/2022 08:30:00                          SING 2   \n",
       "9    2022-11-22  22/11/2022 09:00:00  BLACK PANTHER: WAKANDA FOREVER   \n",
       "\n",
       "                        TITULO_BRASIL         CPB_ROE    AUDIO LEGENDADA  \\\n",
       "0  PANTERA NEGRA: WAKANDA PARA SEMPRE  E2200378300000  DUBLADO       NÃO   \n",
       "1  PANTERA NEGRA: WAKANDA PARA SEMPRE  E2200378300000  DUBLADO       NÃO   \n",
       "2                          ADÃO NEGRO  E2200308100000  DUBLADO       NÃO   \n",
       "3  PANTERA NEGRA: WAKANDA PARA SEMPRE  E2200378300000  DUBLADO       NÃO   \n",
       "4                             ENCANTO  E2100480200000  DUBLADO       NÃO   \n",
       "5               LILO, LILO, CROCODILO  E2200256400000  DUBLADO       NÃO   \n",
       "6  PANTERA NEGRA: WAKANDA PARA SEMPRE  E2200378300000  DUBLADO       NÃO   \n",
       "7               LILO, LILO, CROCODILO  E2200256400000  DUBLADO       NÃO   \n",
       "8                              SING 2  E2100492600000  DUBLADO       NÃO   \n",
       "9  PANTERA NEGRA: WAKANDA PARA SEMPRE  E2200378300000  DUBLADO       NÃO   \n",
       "\n",
       "        PAIS_OBRA  REGISTRO_SALA                               NOME_SALA  \\\n",
       "0  ESTADOS UNIDOS        5005785                     MOVIEPLEX - SALA 02   \n",
       "1  ESTADOS UNIDOS        5005784                     MOVIEPLEX - SALA 01   \n",
       "2  ESTADOS UNIDOS        5006082                        CINE IMPERIAL 02   \n",
       "3  ESTADOS UNIDOS        5005785                     MOVIEPLEX - SALA 02   \n",
       "4  ESTADOS UNIDOS        5005641             CINESYSTEM PAULISTA SALA 02   \n",
       "5  ESTADOS UNIDOS        5006421                GRUPOCINE ITAPECERICA 01   \n",
       "6  ESTADOS UNIDOS        5005784                     MOVIEPLEX - SALA 01   \n",
       "7  ESTADOS UNIDOS        5005808  CINEFLIX APARECIDA DE GOIANIA - SALA 4   \n",
       "8  ESTADOS UNIDOS        5003571             SALA CIDADE JARDIM NORTE 02   \n",
       "9  ESTADOS UNIDOS        5006511                     CINEMARK ITABUNA 03   \n",
       "\n",
       "   PUBLICO  REGISTRO_GRUPO_EXIBIDOR  REGISTRO_EXIBIDOR  REGISTRO_COMPLEXO  \\\n",
       "0       10                      NaN              36106              36107   \n",
       "1        7                      NaN              36106              36107   \n",
       "2        3                      NaN              40730              40731   \n",
       "3       12                      NaN              36106              36107   \n",
       "4      105                6000027.0              22546              33152   \n",
       "5        0                6000034.0              44276              44290   \n",
       "6       16                      NaN              36106              36107   \n",
       "7       17                6000014.0              24534              36838   \n",
       "8        0                6000006.0               2836              22580   \n",
       "9      145                6000018.0               1843              44890   \n",
       "\n",
       "  MUNICIPIO_SALA_COMPLEXO UF_SALA_COMPLEXO  \\\n",
       "0                 TIANGUÁ               CE   \n",
       "1                 TIANGUÁ               CE   \n",
       "2                SALVADOR               BA   \n",
       "3                 TIANGUÁ               CE   \n",
       "4                PAULISTA               PE   \n",
       "5    ITAPECERICA DA SERRA               SP   \n",
       "6                 TIANGUÁ               CE   \n",
       "7    APARECIDA DE GOIÂNIA               GO   \n",
       "8   SÃO JOSÉ DO RIO PRETO               SP   \n",
       "9                 ITABUNA               BA   \n",
       "\n",
       "                              RAZAO_SOCIAL_EXIBIDORA      CNPJ_EXIBIDORA  \n",
       "0                  MOVIEPLEX ENTRETENIMENTO LTDA -ME  26.756.579/0001-00  \n",
       "1                  MOVIEPLEX ENTRETENIMENTO LTDA -ME  26.756.579/0001-00  \n",
       "2             RG PALMA EXIBICAO CINEMATOGRAFICA LTDA  31.159.134/0001-83  \n",
       "3                  MOVIEPLEX ENTRETENIMENTO LTDA -ME  26.756.579/0001-00  \n",
       "4                  REDECINE BRA CINEMATOGRÁFICA S.A.  15.422.993/0001-67  \n",
       "5             EMPRESA CINEMATOGRAFICA BOMBOCINE LTDA  21.298.337/0001-05  \n",
       "6                  MOVIEPLEX ENTRETENIMENTO LTDA -ME  26.756.579/0001-00  \n",
       "7                  REDECINE BSB CINEMATOGRÁFICA LTDA  18.087.870/0001-05  \n",
       "8  EMPRESA SAO LUIZ DE CINEMAS LTDA - EM RECUPERA...  52.067.071/0001-05  \n",
       "9                                CINEMARK BRASIL S.A  00.779.721/0001-41  "
      ]
     },
     "execution_count": 12,
     "metadata": {},
     "output_type": "execute_result"
    }
   ],
   "source": [
    "df_final.head(10)"
   ]
  },
  {
   "cell_type": "markdown",
   "metadata": {},
   "source": [
    "-   df_final.isnull().sum(): mostra a quantidade de valores ausentes em cada coluna, útil para avaliar a necessidade de tratamento de dados faltantes. \n",
    "\n",
    "Abaixo podemos ver que:\n",
    "\n",
    "-   TITULO_ORIGINAL (263 nulos) → valor pequeno em relação ao dataset (~33 milhões de linhas). Pode ser preenchido com TITULO_BRASIL quando disponível ou deixado em branco.\n",
    "\n",
    "-   TITULO_BRASIL (≈ 4,5 milhões de nulos) → um volume grande. Isso sugere que em várias sessões só temos o título original cadastrado. Aqui pode fazer sentido manter apenas o título original como referência principal.\n",
    "\n",
    "-   PAIS_OBRA (≈ 179 mil nulos) → relativamente pequeno, mas pode afetar análises de origem das obras. Talvez seja necessário cruzar com outra base ou preencher com “Não informado”.\n",
    "\n",
    "-   REGISTRO_GRUPO_EXIBIDOR (≈ 1,8 milhão de nulos) → representa os exibidores que não fazem parte de um grupo (independentes). Pode ser interessante tratar como categoria própria, por exemplo \"Sem Grupo\".\n"
   ]
  },
  {
   "cell_type": "code",
   "execution_count": null,
   "metadata": {},
   "outputs": [
    {
     "data": {
      "text/plain": [
       "DATA_EXIBICAO                    0\n",
       "SESSAO                           0\n",
       "TITULO_ORIGINAL                263\n",
       "TITULO_BRASIL              4557074\n",
       "CPB_ROE                          0\n",
       "AUDIO                            0\n",
       "LEGENDADA                        0\n",
       "PAIS_OBRA                   179045\n",
       "REGISTRO_SALA                    0\n",
       "NOME_SALA                        0\n",
       "PUBLICO                          0\n",
       "REGISTRO_GRUPO_EXIBIDOR    1855821\n",
       "REGISTRO_EXIBIDOR                0\n",
       "REGISTRO_COMPLEXO                0\n",
       "MUNICIPIO_SALA_COMPLEXO          0\n",
       "UF_SALA_COMPLEXO                 0\n",
       "RAZAO_SOCIAL_EXIBIDORA           0\n",
       "CNPJ_EXIBIDORA                   0\n",
       "dtype: int64"
      ]
     },
     "execution_count": 13,
     "metadata": {},
     "output_type": "execute_result"
    }
   ],
   "source": [
    "df_final.isnull().sum()"
   ]
  },
  {
   "cell_type": "markdown",
   "metadata": {},
   "source": [
    "-   df_final.shape: informa a dimensão da tabela (número de linhas e colunas). No exemplo, formatamos o resultado para exibir de forma clara:"
   ]
  },
  {
   "cell_type": "code",
   "execution_count": 14,
   "metadata": {},
   "outputs": [
    {
     "name": "stdout",
     "output_type": "stream",
     "text": [
      "A tabela possui 33511860 linhas e 18 colunas.\n"
     ]
    }
   ],
   "source": [
    "print(f\"A tabela possui {df_final.shape[0]} linhas e {df_final.shape[1]} colunas.\")"
   ]
  },
  {
   "cell_type": "markdown",
   "metadata": {},
   "source": [
    "Com base nessa exploração inicial do dataset, já é possível avançar para a etapa de limpeza e ajustes, tratando os valores ausentes, corrigindo tipos de dados e padronizando as informações para garantir maior consistência nas análises."
   ]
  },
  {
   "cell_type": "markdown",
   "metadata": {},
   "source": [
    "### Limpeza e Ajustes de Dados"
   ]
  },
  {
   "cell_type": "markdown",
   "metadata": {},
   "source": [
    "1. Conversão de tipos de dados: Primeiro, ajustamos as colunas para tipos adequados, garantindo que datas e identificadores sejam tratados corretamente."
   ]
  },
  {
   "cell_type": "code",
   "execution_count": null,
   "metadata": {},
   "outputs": [],
   "source": [
    "# Converter DATA_EXIBICAO para datetime\n",
    "df_final[\"DATA_EXIBICAO\"] = pd.to_datetime(df_final[\"DATA_EXIBICAO\"], errors=\"coerce\")"
   ]
  },
  {
   "cell_type": "code",
   "execution_count": null,
   "metadata": {},
   "outputs": [],
   "source": [
    "# Identificadores como string (para não tratar estatisticamente)\n",
    "id_cols = [\"REGISTRO_SALA\", \"REGISTRO_GRUPO_EXIBIDOR\", \n",
    "           \"REGISTRO_EXIBIDOR\", \"REGISTRO_COMPLEXO\", \"CNPJ_EXIBIDORA\"]\n",
    "\n",
    "for col in id_cols:\n",
    "    df_final[col] = df_final[col].astype(\"string\")"
   ]
  },
  {
   "cell_type": "code",
   "execution_count": 22,
   "metadata": {},
   "outputs": [],
   "source": [
    "# Colunas de texto com poucos valores únicos -> category\n",
    "category_cols = [\"SESSAO\", \"CPB_ROE\", \"AUDIO\", \"LEGENDADA\", \n",
    "                 \"PAIS_OBRA\", \"NOME_SALA\", \"MUNICIPIO_SALA_COMPLEXO\", \n",
    "                 \"UF_SALA_COMPLEXO\", \"RAZAO_SOCIAL_EXIBIDORA\"]\n",
    "for col in category_cols:\n",
    "    df_final[col] = df_final[col].astype(\"category\")"
   ]
  },
  {
   "cell_type": "code",
   "execution_count": 23,
   "metadata": {},
   "outputs": [
    {
     "name": "stdout",
     "output_type": "stream",
     "text": [
      "<class 'pandas.core.frame.DataFrame'>\n",
      "RangeIndex: 33511860 entries, 0 to 33511859\n",
      "Data columns (total 18 columns):\n",
      " #   Column                   Dtype         \n",
      "---  ------                   -----         \n",
      " 0   DATA_EXIBICAO            datetime64[ns]\n",
      " 1   SESSAO                   category      \n",
      " 2   TITULO_ORIGINAL          object        \n",
      " 3   TITULO_BRASIL            object        \n",
      " 4   CPB_ROE                  category      \n",
      " 5   AUDIO                    category      \n",
      " 6   LEGENDADA                category      \n",
      " 7   PAIS_OBRA                category      \n",
      " 8   REGISTRO_SALA            string        \n",
      " 9   NOME_SALA                category      \n",
      " 10  PUBLICO                  int64         \n",
      " 11  REGISTRO_GRUPO_EXIBIDOR  string        \n",
      " 12  REGISTRO_EXIBIDOR        string        \n",
      " 13  REGISTRO_COMPLEXO        string        \n",
      " 14  MUNICIPIO_SALA_COMPLEXO  category      \n",
      " 15  UF_SALA_COMPLEXO         category      \n",
      " 16  RAZAO_SOCIAL_EXIBIDORA   category      \n",
      " 17  CNPJ_EXIBIDORA           string        \n",
      "dtypes: category(9), datetime64[ns](1), int64(1), object(2), string(5)\n",
      "memory usage: 2.8+ GB\n"
     ]
    }
   ],
   "source": [
    "df_final.info()"
   ]
  },
  {
   "cell_type": "markdown",
   "metadata": {},
   "source": [
    "2. Tratamento de valores ausentes: Agora, vamos lidar com os nulos identificados na exploração inicial:"
   ]
  },
  {
   "cell_type": "code",
   "execution_count": 25,
   "metadata": {},
   "outputs": [],
   "source": [
    "# Preencher TITULO_BRASIL com TITULO_ORIGINAL quando ausente\n",
    "df_final[\"TITULO_BRASIL\"] = df_final[\"TITULO_BRASIL\"].fillna(df_final[\"TITULO_ORIGINAL\"])\n",
    "\n",
    "# Adicionar a categoria \"Não informado\" antes de preencher\n",
    "df_final[\"PAIS_OBRA\"] = df_final[\"PAIS_OBRA\"].cat.add_categories(\"Não informado\")\n",
    "\n",
    "# Agora preencher os valores ausentes\n",
    "df_final[\"PAIS_OBRA\"] = df_final[\"PAIS_OBRA\"].fillna(\"Não informado\")\n",
    "\n",
    "# Preencher REGISTRO_GRUPO_EXIBIDOR ausente com \"Sem Grupo\"\n",
    "df_final[\"REGISTRO_GRUPO_EXIBIDOR\"] = df_final[\"REGISTRO_GRUPO_EXIBIDOR\"].replace(\"nan\", \"Sem Grupo\")\n"
   ]
  },
  {
   "cell_type": "markdown",
   "metadata": {},
   "source": [
    "## Análise Exploratória\n",
    "\n",
    "A análise exploratória será o primeiro passo para construir modelos de séries temporais, permitindo identificar padrões sazonais, tendências e mudanças no comportamento do público, além de mapear a infraestrutura de cinema no país. O objetivo desta análise exploratória é entender melhor o comportamento da bilheteria diária de obras exibidas no Brasil."
   ]
  },
  {
   "cell_type": "markdown",
   "metadata": {},
   "source": [
    "### Perguntas que iremos direcionar a análise"
   ]
  },
  {
   "cell_type": "markdown",
   "metadata": {},
   "source": [
    "1. **Comportamento do Público**\n",
    "\n",
    "-   Quais são os padrões de frequência do público ao longo do ano? Há períodos de alta ou baixa demanda?\n",
    "\n",
    "    -   Existem padrões sazonais claros no número de espectadores? Quais meses (como férias de janeiro, julho e dezembro) ou dias da semana concentram o maior PUBLICO?\n",
    "    -   Qual a relação entre o horário da SESSAO e o tamanho do PUBLICO? Sessões noturnas são consistentemente mais populares que as vespertinas?\n",
    "    -   Qual a tendência do número de espectadores (PUBLICO) ao longo do tempo? Estamos observando um crescimento, uma queda ou uma estagnação do mercado de cinema no Brasil?"
   ]
  },
  {
   "cell_type": "code",
   "execution_count": 47,
   "metadata": {},
   "outputs": [
    {
     "name": "stdout",
     "output_type": "stream",
     "text": [
      "--------------------------------------------------------------------------------------------\n",
      "Existem padrões sazonais claros no número de espectadores? Quais meses (como férias de janeiro, julho e dezembro) ou dias da semana concentram o maior PUBLICO?\n",
      "--------------------------------------------------------------------------------------------\n"
     ]
    },
    {
     "data": {
      "image/png": "[encoded data removed]",
      "text/plain": [
       "<Figure size 1000x500 with 1 Axes>"
      ]
     },
     "metadata": {},
     "output_type": "display_data"
    },
    {
     "data": {
      "image/png": "[encoded data removed]",
      "text/plain": [
       "<Figure size 800x500 with 1 Axes>"
      ]
     },
     "metadata": {},
     "output_type": "display_data"
    },
    {
     "name": "stdout",
     "output_type": "stream",
     "text": [
      "Mês com maior público: Julho → 148043551 espectadores\n",
      "Mês com menor público: Setembro → 71246360 espectadores\n",
      "Dia da semana com maior público: sábado → 234488607 espectadores\n",
      "Dia da semana com menor público: quinta-feira → 120800764 espectadores\n"
     ]
    }
   ],
   "source": [
    "print(\"--------------------------------------------------------------------------------------------\")\n",
    "print(\"Existem padrões sazonais claros no número de espectadores? Quais meses (como férias de janeiro, julho e dezembro) ou dias da semana concentram o maior PUBLICO?\")\n",
    "print(\"--------------------------------------------------------------------------------------------\")\n",
    "\n",
    "\n",
    "# Garantir que a coluna de datas está no formato datetime\n",
    "df_final['DATA_EXIBICAO'] = pd.to_datetime(df_final['DATA_EXIBICAO'], errors='coerce')\n",
    "\n",
    "# Extrair mês e dia da semana\n",
    "df_final['MES'] = df_final['DATA_EXIBICAO'].dt.month\n",
    "\n",
    "# Traduzir dias da semana manualmente\n",
    "dias_map = {\n",
    "    \"Monday\": \"segunda-feira\",\n",
    "    \"Tuesday\": \"terça-feira\",\n",
    "    \"Wednesday\": \"quarta-feira\",\n",
    "    \"Thursday\": \"quinta-feira\",\n",
    "    \"Friday\": \"sexta-feira\",\n",
    "    \"Saturday\": \"sábado\",\n",
    "    \"Sunday\": \"domingo\"\n",
    "}\n",
    "df_final['DIA_SEMANA'] = df_final['DATA_EXIBICAO'].dt.day_name().map(dias_map)\n",
    "\n",
    "# Traduzir meses manualmente\n",
    "meses_map = {\n",
    "    1: \"Janeiro\", 2: \"Fevereiro\", 3: \"Março\", 4: \"Abril\",\n",
    "    5: \"Maio\", 6: \"Junho\", 7: \"Julho\", 8: \"Agosto\",\n",
    "    9: \"Setembro\", 10: \"Outubro\", 11: \"Novembro\", 12: \"Dezembro\"\n",
    "}\n",
    "df_final['MES_NOME'] = df_final['MES'].map(meses_map)\n",
    "\n",
    "# Agrupar público por mês (já com nome do mês)\n",
    "publico_mes = df_final.groupby('MES_NOME')['PUBLICO'].sum()\n",
    "\n",
    "# Reordenar meses para ficar na ordem correta\n",
    "ordem_meses = [\"Janeiro\", \"Fevereiro\", \"Março\", \"Abril\", \"Maio\", \"Junho\", \n",
    "               \"Julho\", \"Agosto\", \"Setembro\", \"Outubro\", \"Novembro\", \"Dezembro\"]\n",
    "publico_mes = publico_mes.reindex(ordem_meses)\n",
    "\n",
    "# Agrupar público por dia da semana\n",
    "publico_dia = df_final.groupby('DIA_SEMANA')['PUBLICO'].sum()\n",
    "\n",
    "# Reordenar dias da semana\n",
    "ordem_dias = ['segunda-feira', 'terça-feira', 'quarta-feira', \n",
    "              'quinta-feira', 'sexta-feira', 'sábado', 'domingo']\n",
    "publico_dia = publico_dia.reindex(ordem_dias)\n",
    "\n",
    "colors_mes = sns.color_palette(\"Spectral\", n_colors=len(publico_mes))\n",
    "colors_dia = sns.color_palette(\"Spectral\", n_colors=len(publico_dia))\n",
    "\n",
    "# ---- Visualizações ----\n",
    "# Público por mês\n",
    "plt.figure(figsize=(10,5))\n",
    "publico_mes.plot(kind='bar', color=colors_mes)\n",
    "plt.title(\"Público total por mês\")\n",
    "plt.xlabel(\"Mês\")\n",
    "plt.ylabel(\"Total de espectadores\")\n",
    "plt.xticks(rotation=45)\n",
    "plt.show()\n",
    "\n",
    "# Público por dia da semana\n",
    "plt.figure(figsize=(8,5))\n",
    "publico_dia.plot(kind='bar', color=colors_dia)\n",
    "plt.title(\"Público total por dia da semana\")\n",
    "plt.xlabel(\"Dia da semana\")\n",
    "plt.ylabel(\"Total de espectadores\")\n",
    "plt.xticks(rotation=30)\n",
    "plt.show()\n",
    "\n",
    "# ---- Resultados textuais ----\n",
    "print(\"Mês com maior público:\", publico_mes.idxmax(), \"→\", publico_mes.max(), \"espectadores\")\n",
    "print(\"Mês com menor público:\", publico_mes.idxmin(), \"→\", publico_mes.min(), \"espectadores\")\n",
    "\n",
    "print(\"Dia da semana com maior público:\", publico_dia.idxmax(), \"→\", publico_dia.max(), \"espectadores\")\n",
    "print(\"Dia da semana com menor público:\", publico_dia.idxmin(), \"→\", publico_dia.min(), \"espectadores\")"
   ]
  },
  {
   "cell_type": "code",
   "execution_count": 46,
   "metadata": {},
   "outputs": [
    {
     "name": "stdout",
     "output_type": "stream",
     "text": [
      "--------------------------------------------------------------------------------------------\n",
      " Qual a relação entre o horário da SESSAO e o tamanho do PUBLICO? Sessões noturnas são consistentemente mais populares que as vespertinas?\n",
      "--------------------------------------------------------------------------------------------\n"
     ]
    },
    {
     "data": {
      "image/png": "[encoded data removed]",
      "text/plain": [
       "<Figure size 800x500 with 1 Axes>"
      ]
     },
     "metadata": {},
     "output_type": "display_data"
    },
    {
     "name": "stdout",
     "output_type": "stream",
     "text": [
      "Público médio por faixa de horário:\n",
      " FAIXA_HORARIO\n",
      "Manhã           33.557438\n",
      "Tarde           27.244138\n",
      "Noite           37.977818\n",
      "Madrugada       76.330622\n",
      "Desconhecido          NaN\n",
      "Name: PUBLICO, dtype: float64\n",
      "\n",
      "Faixa com maior público médio: Madrugada → 76.3306218758732 espectadores\n",
      "Faixa com menor público médio: Tarde → 27.244138162473675 espectadores\n"
     ]
    }
   ],
   "source": [
    "print(\"--------------------------------------------------------------------------------------------\")\n",
    "print(\" Qual a relação entre o horário da SESSAO e o tamanho do PUBLICO? Sessões noturnas são consistentemente mais populares que as vespertinas?\")\n",
    "print(\"--------------------------------------------------------------------------------------------\")\n",
    "\n",
    "# Garantir que SESSAO está no formato datetime\n",
    "df_final['SESSAO'] = pd.to_datetime(df_final['SESSAO'], format='%d/%m/%Y %H:%M:%S', errors='coerce')\n",
    "\n",
    "# Extrair a hora da sessão\n",
    "df_final['HORA'] = df_final['SESSAO'].dt.hour\n",
    "\n",
    "# Criar faixas de horário\n",
    "def faixa_horario(h):\n",
    "    if pd.isna(h):\n",
    "        return \"Desconhecido\"\n",
    "    elif 6 <= h < 12:\n",
    "        return \"Manhã\"\n",
    "    elif 12 <= h < 18:\n",
    "        return \"Tarde\"\n",
    "    elif 18 <= h <= 23:\n",
    "        return \"Noite\"\n",
    "    else:\n",
    "        return \"Madrugada\"\n",
    "\n",
    "df_final['FAIXA_HORARIO'] = df_final['HORA'].apply(faixa_horario)\n",
    "\n",
    "# Agrupar público médio por faixa de horário\n",
    "publico_por_faixa = df_final.groupby('FAIXA_HORARIO')['PUBLICO'].mean().reindex(['Manhã', 'Tarde', 'Noite', 'Madrugada', 'Desconhecido'])\n",
    "\n",
    "# ---- Visualização ----\n",
    "colors = sns.color_palette(\"Spectral\", n_colors=len(publico_por_faixa))\n",
    "\n",
    "plt.figure(figsize=(8,5))\n",
    "publico_por_faixa.plot(kind='bar', color=colors)\n",
    "plt.title(\"Público médio por faixa de horário\")\n",
    "plt.xlabel(\"Faixa de horário\")\n",
    "plt.ylabel(\"Média de espectadores\")\n",
    "plt.show()\n",
    "\n",
    "# ---- Resultados textuais ----\n",
    "print(\"Público médio por faixa de horário:\\n\", publico_por_faixa)\n",
    "print(\"\\nFaixa com maior público médio:\", publico_por_faixa.idxmax(), \"→\", publico_por_faixa.max(), \"espectadores\")\n",
    "print(\"Faixa com menor público médio:\", publico_por_faixa.idxmin(), \"→\", publico_por_faixa.min(), \"espectadores\")\n"
   ]
  },
  {
   "cell_type": "code",
   "execution_count": 38,
   "metadata": {},
   "outputs": [
    {
     "name": "stdout",
     "output_type": "stream",
     "text": [
      "--------------------------------------------------------------------------------------------\n",
      "Qual a tendência do número de espectadores (PUBLICO) ao longo do tempo? Estamos observando um crescimento, uma queda ou uma estagnação do mercado de cinema no Brasil?\n",
      "--------------------------------------------------------------------------------------------\n"
     ]
    },
    {
     "data": {
      "image/png": "[encoded data removed]",
      "text/plain": [
       "<Figure size 1200x600 with 1 Axes>"
      ]
     },
     "metadata": {},
     "output_type": "display_data"
    },
    {
     "name": "stdout",
     "output_type": "stream",
     "text": [
      "Período analisado: 2014-06 até 2025-09\n",
      "Mês com maior público: 2019-07 → 26259518 espectadores\n",
      "Mês com menor público: 2020-04 → 903 espectadores\n"
     ]
    }
   ],
   "source": [
    "print(\"--------------------------------------------------------------------------------------------\")\n",
    "print(\"Qual a tendência do número de espectadores (PUBLICO) ao longo do tempo? Estamos observando um crescimento, uma queda ou uma estagnação do mercado de cinema no Brasil?\")\n",
    "print(\"--------------------------------------------------------------------------------------------\")\n",
    "\n",
    "# Garantir que SESSAO está em datetime\n",
    "df_final['SESSAO'] = pd.to_datetime(df_final['SESSAO'], format='%d/%m/%Y %H:%M:%S', errors='coerce')\n",
    "\n",
    "# Garantir que PUBLICO é numérico inteiro\n",
    "df_final['PUBLICO'] = pd.to_numeric(df_final['PUBLICO'], errors='coerce').fillna(0).astype(int)\n",
    "\n",
    "# Criar coluna Ano-Mês para séries temporais\n",
    "df_final['ANO_MES'] = df_final['SESSAO'].dt.to_period('M')\n",
    "\n",
    "# Agregar público por mês\n",
    "publico_mensal = df_final.groupby('ANO_MES')['PUBLICO'].sum()\n",
    "\n",
    "# Converter índice para datetime para plotagem\n",
    "publico_mensal.index = publico_mensal.index.to_timestamp()\n",
    "\n",
    "# Calcular média móvel de 3 meses para suavizar tendências\n",
    "publico_mensal_mm = publico_mensal.rolling(window=3).mean()\n",
    "\n",
    "# ---- Gráfico da série temporal ----\n",
    "plt.figure(figsize=(12,6))\n",
    "plt.plot(publico_mensal.index, publico_mensal.values, alpha=0.3, marker='o', linestyle='-', label='Total Mensal')\n",
    "plt.plot(publico_mensal_mm.index, publico_mensal_mm.values, color='red', linewidth=2, label='Média Móvel 3 Meses')\n",
    "plt.title(\"Tendência do público de cinema no Brasil\")\n",
    "plt.xlabel(\"Ano-Mês\")\n",
    "plt.ylabel(\"Total de espectadores\")\n",
    "plt.grid(True)\n",
    "plt.legend()\n",
    "plt.xticks(rotation=45)\n",
    "plt.show()\n",
    "\n",
    "# ---- Resultados resumidos ----\n",
    "print(\"Período analisado: {} até {}\".format(publico_mensal.index.min().strftime('%Y-%m'),\n",
    "                                            publico_mensal.index.max().strftime('%Y-%m')))\n",
    "print(\"Mês com maior público:\", publico_mensal.idxmax().strftime('%Y-%m'), \"→\", publico_mensal.max(), \"espectadores\")\n",
    "print(\"Mês com menor público:\", publico_mensal.idxmin().strftime('%Y-%m'), \"→\", publico_mensal.min(), \"espectadores\")"
   ]
  },
  {
   "cell_type": "markdown",
   "metadata": {},
   "source": [
    "-   O público responde de forma diferente a filmes nacionais versus estrangeiros?\n",
    "\n",
    "    -   Qual é a proporção (market share) de PUBLICO para filmes nacionais (PAIS_OBRA = 'Brasil') em comparação com produções estrangeiras?\n",
    "\n",
    "    -   Essa proporção tem se alterado ao longo do período analisado?"
   ]
  },
  {
   "cell_type": "code",
   "execution_count": 42,
   "metadata": {},
   "outputs": [
    {
     "name": "stdout",
     "output_type": "stream",
     "text": [
      "--------------------------------------------------------------------------------------------\n",
      "Qual a tendência do número de espectadores (PUBLICO) ao longo do tempo? Estamos observando um crescimento, uma queda ou uma estagnação do mercado de cinema no Brasil?\n",
      "--------------------------------------------------------------------------------------------\n",
      "Público total por tipo de filme:\n",
      " TIPO_FILME\n",
      "Estrangeiro    980832596\n",
      "Nacional       112795659\n",
      "Name: PUBLICO, dtype: int64\n",
      "\n",
      "Proporção de público (%) por tipo de filme:\n",
      " TIPO_FILME\n",
      "Estrangeiro    89.686106\n",
      "Nacional       10.313894\n",
      "Name: PUBLICO, dtype: float64\n"
     ]
    },
    {
     "data": {
      "image/png": "[encoded data removed]",
      "text/plain": [
       "<Figure size 600x600 with 1 Axes>"
      ]
     },
     "metadata": {},
     "output_type": "display_data"
    }
   ],
   "source": [
    "print(\"--------------------------------------------------------------------------------------------\")\n",
    "print(\"Qual a tendência do número de espectadores (PUBLICO) ao longo do tempo? Estamos observando um crescimento, uma queda ou uma estagnação do mercado de cinema no Brasil?\")\n",
    "print(\"--------------------------------------------------------------------------------------------\")\n",
    "\n",
    "# Garantir que PUBLICO é numérico\n",
    "df_final['PUBLICO'] = pd.to_numeric(df_final['PUBLICO'], errors='coerce').fillna(0).astype(int)\n",
    "\n",
    "# Criar coluna indicando se é nacional ou estrangeiro\n",
    "df_final['TIPO_FILME'] = df_final['PAIS_OBRA'].apply(lambda x: 'Nacional' if x == 'BRASIL' else 'Estrangeiro')\n",
    "\n",
    "# Agregar público por tipo de filme\n",
    "publico_tipo = df_final.groupby('TIPO_FILME')['PUBLICO'].sum()\n",
    "\n",
    "# Calcular proporção\n",
    "proporcao = publico_tipo / publico_tipo.sum() * 100\n",
    "\n",
    "print(\"Público total por tipo de filme:\\n\", publico_tipo)\n",
    "print(\"\\nProporção de público (%) por tipo de filme:\\n\", proporcao)\n",
    "\n",
    "# Gráfico de pizza\n",
    "plt.figure(figsize=(6,6))\n",
    "proporcao.plot(kind='pie', autopct='%1.1f%%', colors=['#66c2a5','#fc8d62'], startangle=90)\n",
    "plt.title(\"Market Share do público: Filmes Nacionais vs Estrangeiros\")\n",
    "plt.ylabel(\"\")\n",
    "plt.show()\n"
   ]
  },
  {
   "cell_type": "code",
   "execution_count": 43,
   "metadata": {},
   "outputs": [
    {
     "name": "stdout",
     "output_type": "stream",
     "text": [
      "--------------------------------------------------------------------------------------------\n",
      "Essa proporção tem se alterado ao longo do período analisado?\n",
      "--------------------------------------------------------------------------------------------\n"
     ]
    },
    {
     "data": {
      "image/png": "[encoded data removed]",
      "text/plain": [
       "<Figure size 1200x600 with 1 Axes>"
      ]
     },
     "metadata": {},
     "output_type": "display_data"
    }
   ],
   "source": [
    "print(\"--------------------------------------------------------------------------------------------\")\n",
    "print(\"Essa proporção tem se alterado ao longo do período analisado?\")\n",
    "print(\"--------------------------------------------------------------------------------------------\")\n",
    "\n",
    "# Criar coluna Ano-Mês\n",
    "df_final['ANO_MES'] = df_final['SESSAO'].dt.to_period('M')\n",
    "\n",
    "# Agregar público por tipo de filme e mês\n",
    "publico_mensal_tipo = df_final.groupby(['ANO_MES', 'TIPO_FILME'])['PUBLICO'].sum().unstack(fill_value=0)\n",
    "\n",
    "# Calcular proporção de público nacional por mês\n",
    "publico_mensal_tipo['Proporcao_Nacional'] = publico_mensal_tipo['Nacional'] / (publico_mensal_tipo['Nacional'] + publico_mensal_tipo['Estrangeiro']) * 100\n",
    "\n",
    "# Converter índice para datetime para plotagem\n",
    "publico_mensal_tipo.index = publico_mensal_tipo.index.to_timestamp()\n",
    "\n",
    "# Gráfico da evolução colorido com Spectral\n",
    "colors = sns.color_palette(\"Spectral\", as_cmap=False)\n",
    "plt.figure(figsize=(12,6))\n",
    "plt.plot(publico_mensal_tipo.index, publico_mensal_tipo['Proporcao_Nacional'],\n",
    "         marker='o', linestyle='-', color=colors[0], markersize=6, linewidth=2)\n",
    "plt.fill_between(publico_mensal_tipo.index, publico_mensal_tipo['Proporcao_Nacional'],\n",
    "                 color=colors[0], alpha=0.3)\n",
    "plt.title(\"Evolução da proporção do público para filmes nacionais (%)\")\n",
    "plt.xlabel(\"Ano-Mês\")\n",
    "plt.ylabel(\"Proporção de público nacional (%)\")\n",
    "plt.grid(True)\n",
    "plt.xticks(rotation=45)\n",
    "plt.show()"
   ]
  },
  {
   "cell_type": "markdown",
   "metadata": {},
   "source": [
    "2. **Distribuição Geográfica**\n",
    "\n",
    "-   Como as salas de cinema estão distribuídas pelo território nacional? Quais regiões estão sub-representadas?\n",
    "\n",
    "    -   Como o PUBLICO total e o número de salas (REGISTRO_SALA) se distribuem entre os diferentes estados (UF_SALA_COMPLEXO)?\n",
    "\n",
    "    -   A infraestrutura de exibição (número de REGISTRO_COMPLEXO e salas) é concentrada em capitais e grandes centros urbanos?\n",
    "\n",
    "    -   A análise da distribuição de MUNICIPIO_SALA_COMPLEXO pode revelar quais estados possuem vastas áreas sem acesso a cinemas registrados, ajudando a mapear \"desertos culturais\"?"
   ]
  },
  {
   "cell_type": "code",
   "execution_count": 50,
   "metadata": {},
   "outputs": [
    {
     "name": "stderr",
     "output_type": "stream",
     "text": [
      "/var/folders/nn/lnnz74wx5bn_5k63n278ffc80000gn/T/ipykernel_24123/1905289969.py:5: FutureWarning: The default of observed=False is deprecated and will be changed to True in a future version of pandas. Pass observed=False to retain current behavior or observed=True to adopt the future default and silence this warning.\n",
      "  estados_df = df_final.groupby('UF_SALA_COMPLEXO').agg({\n"
     ]
    },
    {
     "name": "stdout",
     "output_type": "stream",
     "text": [
      "  UF_SALA_COMPLEXO  Num_Salas  Num_Complexos  Publico_Total\n",
      "0               AC          6              1        3151382\n",
      "1               AL         35              8       11268906\n",
      "2               AM         84             13       22106834\n",
      "3               AP         15              3        3922068\n",
      "4               BA        172             50       38966739\n"
     ]
    }
   ],
   "source": [
    "# Garantir PUBLICO numérico\n",
    "df_final['PUBLICO'] = pd.to_numeric(df_final['PUBLICO'], errors='coerce').fillna(0).astype(int)\n",
    "\n",
    "# Agrupar dados por estado\n",
    "estados_df = df_final.groupby('UF_SALA_COMPLEXO').agg({\n",
    "    'REGISTRO_SALA': 'nunique',        # número de salas\n",
    "    'REGISTRO_COMPLEXO': 'nunique',    # número de complexos\n",
    "    'PUBLICO': 'sum'                   # público total\n",
    "}).reset_index().rename(columns={\n",
    "    'REGISTRO_SALA':'Num_Salas',\n",
    "    'REGISTRO_COMPLEXO':'Num_Complexos',\n",
    "    'PUBLICO':'Publico_Total'\n",
    "})\n",
    "\n",
    "print(estados_df.head())"
   ]
  },
  {
   "cell_type": "code",
   "execution_count": null,
   "metadata": {},
   "outputs": [],
   "source": [
    "# Shapefile com os estados do Brasil (GeoPandas tem um exemplo)\n",
    "# Se não tiver, é possível baixar do IBGE ou usar um GeoJSON\n",
    "brasil = gpd.read_file(\"brazil-states.geojson\")  # arquivo local\n",
    "\n",
    "# Ajustar coluna para mesclar\n",
    "brasil = brasil.rename(columns={\"sigla\":\"UF_SALA_COMPLEXO\"})\n",
    "\n",
    "# Mesclar dados de cinemas com o shapefile\n",
    "mapa_df = brasil.merge(estados_df, on=\"UF_SALA_COMPLEXO\", how=\"left\")"
   ]
  },
  {
   "cell_type": "code",
   "execution_count": 54,
   "metadata": {},
   "outputs": [
    {
     "data": {
      "image/png": "[encoded data removed]",
      "text/plain": [
       "<Figure size 1200x1200 with 2 Axes>"
      ]
     },
     "metadata": {},
     "output_type": "display_data"
    }
   ],
   "source": [
    "fig, ax = plt.subplots(1, 1, figsize=(12,12))\n",
    "mapa_df.plot(column='Num_Salas', cmap='Spectral', linewidth=0.8, ax=ax, edgecolor='0.8', legend=True)\n",
    "ax.set_title(\"Distribuição de salas de cinema por estado\")\n",
    "ax.axis('off')\n",
    "plt.show()"
   ]
  },
  {
   "cell_type": "code",
   "execution_count": 65,
   "metadata": {},
   "outputs": [
    {
     "name": "stderr",
     "output_type": "stream",
     "text": [
      "/var/folders/nn/lnnz74wx5bn_5k63n278ffc80000gn/T/ipykernel_24123/1258117865.py:3: FutureWarning:\n",
      "\n",
      "The default of observed=False is deprecated and will be changed to True in a future version of pandas. Pass observed=False to retain current behavior or observed=True to adopt the future default and silence this warning.\n",
      "\n"
     ]
    }
   ],
   "source": [
    "# Criar mapa interativo Plotly\n",
    "# Agrupar dados por estado\n",
    "estados_df = df_final.groupby('UF_SALA_COMPLEXO').agg({\n",
    "    'REGISTRO_SALA': 'nunique',\n",
    "    'REGISTRO_COMPLEXO': 'nunique',\n",
    "    'PUBLICO': 'sum'\n",
    "}).reset_index().rename(columns={\n",
    "    'REGISTRO_SALA':'Num_Salas',\n",
    "    'REGISTRO_COMPLEXO':'Num_Complexos',\n",
    "    'PUBLICO':'Publico_Total'\n",
    "})\n",
    "\n",
    "# Carregar GeoJSON local (já pronto, sem alterações)\n",
    "with open(\"brazil-states.geojson\", \"r\", encoding=\"utf-8\") as f:\n",
    "    brasil_geojson = json.load(f)\n",
    "\n",
    "# Criar mapa interativo Plotly\n",
    "fig = px.choropleth(\n",
    "    estados_df,\n",
    "    geojson=brasil_geojson,\n",
    "    locations='UF_SALA_COMPLEXO',          # coluna do DataFrame\n",
    "    featureidkey=\"properties.sigla\",       # coluna do GeoJSON com sigla do estado\n",
    "    color='Num_Salas',\n",
    "    hover_name='UF_SALA_COMPLEXO',\n",
    "    hover_data={\n",
    "        'Num_Salas':True,\n",
    "        'Num_Complexos':True,\n",
    "        'Publico_Total':True\n",
    "    },\n",
    "    color_continuous_scale='Spectral',\n",
    "    labels={'Num_Salas':'Número de Salas'}\n",
    ")\n",
    "\n",
    "fig.update_geos(fitbounds=\"locations\", visible=False)\n",
    "fig.update_layout(title_text=\"Distribuição de Salas de Cinema por Estado (Brasil)\")\n",
    "fig.show(renderer=\"browser\")\n"
   ]
  },
  {
   "cell_type": "code",
   "execution_count": 68,
   "metadata": {},
   "outputs": [
    {
     "name": "stderr",
     "output_type": "stream",
     "text": [
      "/var/folders/nn/lnnz74wx5bn_5k63n278ffc80000gn/T/ipykernel_24123/4115423233.py:7: UserWarning:\n",
      "\n",
      "Geometry is in a geographic CRS. Results from 'centroid' are likely incorrect. Use 'GeoSeries.to_crs()' to re-project geometries to a projected CRS before this operation.\n",
      "\n",
      "\n",
      "/var/folders/nn/lnnz74wx5bn_5k63n278ffc80000gn/T/ipykernel_24123/4115423233.py:8: UserWarning:\n",
      "\n",
      "Geometry is in a geographic CRS. Results from 'centroid' are likely incorrect. Use 'GeoSeries.to_crs()' to re-project geometries to a projected CRS before this operation.\n",
      "\n",
      "\n",
      "/var/folders/nn/lnnz74wx5bn_5k63n278ffc80000gn/T/ipykernel_24123/4115423233.py:9: UserWarning:\n",
      "\n",
      "Geometry is in a geographic CRS. Results from 'centroid' are likely incorrect. Use 'GeoSeries.to_crs()' to re-project geometries to a projected CRS before this operation.\n",
      "\n",
      "\n",
      "/var/folders/nn/lnnz74wx5bn_5k63n278ffc80000gn/T/ipykernel_24123/4115423233.py:15: DeprecationWarning:\n",
      "\n",
      "*scatter_mapbox* is deprecated! Use *scatter_map* instead. Learn more at: https://plotly.com/python/mapbox-to-maplibre/\n",
      "\n"
     ]
    }
   ],
   "source": [
    "# Carregar GeoJSON local\n",
    "with open(\"brazil-states.geojson\", \"r\", encoding=\"utf-8\") as f:\n",
    "    brasil_geojson = json.load(f)\n",
    "\n",
    "# Para colocar bolhas, pegamos coordenadas centrais dos estados\n",
    "brasil_gdf = gpd.read_file(\"brazil-states.geojson\")\n",
    "brasil_gdf['centroid'] = brasil_gdf.geometry.centroid\n",
    "brasil_gdf['lon'] = brasil_gdf.centroid.x\n",
    "brasil_gdf['lat'] = brasil_gdf.centroid.y\n",
    "\n",
    "# Mesclar coordenadas centrais com dados\n",
    "mapa_df = estados_df.merge(brasil_gdf[['sigla','lon','lat']], left_on='UF_SALA_COMPLEXO', right_on='sigla', how='left')\n",
    "\n",
    "# Criar mapa interativo Plotly com bolhas\n",
    "fig = px.scatter_mapbox(\n",
    "    mapa_df,\n",
    "    lat='lat',\n",
    "    lon='lon',\n",
    "    size='Publico_Total',          # tamanho da bolha\n",
    "    color='Num_Salas',             # cor pelo número de salas\n",
    "    hover_name='UF_SALA_COMPLEXO',\n",
    "    hover_data={\n",
    "        'Num_Salas':True,\n",
    "        'Num_Complexos':True,\n",
    "        'Publico_Total':True\n",
    "    },\n",
    "    color_continuous_scale='Spectral',\n",
    "    size_max=50,\n",
    "    zoom=3,\n",
    "    mapbox_style=\"carto-positron\"  # mapa base limpo\n",
    ")\n",
    "\n",
    "fig.update_layout(title_text=\"Distribuição de Salas e Público de Cinema no Brasil\")\n",
    "fig.show(renderer=\"browser\")  # abre no navegador"
   ]
  },
  {
   "cell_type": "markdown",
   "metadata": {},
   "source": [
    "-   Existe relação entre o número de espectadores e a localização ou tamanho do município?\n",
    "\n",
    "    -   Quais são os 10 principais municípios em volume de PUBLICO? Eles também são os que possuem mais salas?\n",
    "\n",
    "    -   A evolução do público ao longo do tempo é uniforme entre as diferentes UFs, ou algumas regiões crescem em ritmo mais acelerado que outras?\n",
    "\n",
    "    -   Quais são os 10 municípios com maior número de salas de cinema? A infraestrutura de exibição é fortemente concentrada nas capitais e grandes centros urbanos?"
   ]
  },
  {
   "cell_type": "code",
   "execution_count": 67,
   "metadata": {},
   "outputs": [
    {
     "name": "stderr",
     "output_type": "stream",
     "text": [
      "/var/folders/nn/lnnz74wx5bn_5k63n278ffc80000gn/T/ipykernel_24123/3443898974.py:2: FutureWarning:\n",
      "\n",
      "The default of observed=False is deprecated and will be changed to True in a future version of pandas. Pass observed=False to retain current behavior or observed=True to adopt the future default and silence this warning.\n",
      "\n"
     ]
    },
    {
     "name": "stdout",
     "output_type": "stream",
     "text": [
      "--------------------------------------------------------------------------------------------\n",
      "Top 10 municípios em volume de público\n",
      "--------------------------------------------------------------------------------------------\n",
      "      MUNICIPIO_SALA_COMPLEXO UF_SALA_COMPLEXO    PUBLICO  Num_Salas\n",
      "11743               SÃO PAULO               SP  136504840        472\n",
      "10008          RIO DE JANEIRO               RJ   89356402        262\n",
      "1734                 BRASÍLIA               DF   33695913        104\n",
      "1441           BELO HORIZONTE               MG   30327338         88\n",
      "3554                 CURITIBA               PR   27376922        115\n",
      "4136                FORTALEZA               CE   26996895         71\n",
      "10183                SALVADOR               BA   24899660         80\n",
      "9789                   RECIFE               PE   22165685         52\n",
      "6995                   MANAUS               AM   21929794         81\n",
      "2212                 CAMPINAS               SP   20377170         72\n"
     ]
    }
   ],
   "source": [
    "# Agrupar público por município\n",
    "publico_municipio = df_final.groupby(['MUNICIPIO_SALA_COMPLEXO','UF_SALA_COMPLEXO']).agg({\n",
    "    'PUBLICO':'sum',\n",
    "    'REGISTRO_SALA':'nunique'\n",
    "}).reset_index().rename(columns={'REGISTRO_SALA':'Num_Salas'})\n",
    "\n",
    "# Top 10 municípios por público\n",
    "top10_municipios = publico_municipio.sort_values(by='PUBLICO', ascending=False).head(10)\n",
    "\n",
    "print(\"--------------------------------------------------------------------------------------------\")\n",
    "print(\"Top 10 municípios em volume de público\")\n",
    "print(\"--------------------------------------------------------------------------------------------\")\n",
    "print(top10_municipios[['MUNICIPIO_SALA_COMPLEXO','UF_SALA_COMPLEXO','PUBLICO','Num_Salas']])"
   ]
  },
  {
   "cell_type": "code",
   "execution_count": 80,
   "metadata": {},
   "outputs": [
    {
     "name": "stderr",
     "output_type": "stream",
     "text": [
      "/var/folders/nn/lnnz74wx5bn_5k63n278ffc80000gn/T/ipykernel_24123/3839544725.py:6: FutureWarning:\n",
      "\n",
      "The default of observed=False is deprecated and will be changed to True in a future version of pandas. Pass observed=False to retain current behavior or observed=True to adopt the future default and silence this warning.\n",
      "\n"
     ]
    },
    {
     "name": "stdout",
     "output_type": "stream",
     "text": [
      "   UF_SALA_COMPLEXO    ANO_MES  PUBLICO\n",
      "0                AC 2014-06-01        0\n",
      "1                AC 2014-07-01        0\n",
      "2                AC 2015-05-01        0\n",
      "3                AC 2015-06-01        0\n",
      "4                AC 2015-07-01        0\n",
      "5                AC 2015-12-01        0\n",
      "6                AC 2016-01-01        0\n",
      "7                AC 2016-02-01        0\n",
      "8                AC 2016-03-01        0\n",
      "9                AC 2016-04-01        0\n",
      "10               AC 2016-05-01        0\n",
      "11               AC 2016-06-01     4446\n",
      "12               AC 2016-07-01    49275\n",
      "13               AC 2016-08-01    33578\n",
      "14               AC 2016-09-01    25584\n",
      "15               AC 2016-10-01    28270\n",
      "16               AC 2016-11-01    32335\n",
      "17               AC 2016-12-01    45016\n",
      "18               AC 2017-01-01    59384\n",
      "19               AC 2017-02-01    41641\n",
      "20               AC 2017-03-01    45196\n",
      "21               AC 2017-04-01    53804\n",
      "22               AC 2017-05-01    30500\n",
      "23               AC 2017-06-01    39988\n",
      "24               AC 2017-07-01    54612\n",
      "25               AC 2017-08-01    30017\n",
      "26               AC 2017-09-01    36076\n",
      "27               AC 2017-10-01    33796\n",
      "28               AC 2017-11-01    44982\n",
      "29               AC 2017-12-01    48056\n",
      "30               AC 2018-01-01    47669\n",
      "31               AC 2018-02-01    43011\n",
      "32               AC 2018-03-01    33006\n",
      "33               AC 2018-04-01    41101\n",
      "34               AC 2018-05-01    49341\n",
      "35               AC 2018-06-01    24944\n",
      "36               AC 2018-07-01    48773\n",
      "37               AC 2018-08-01    26388\n",
      "38               AC 2018-09-01    32624\n",
      "39               AC 2018-10-01    35062\n",
      "40               AC 2018-11-01    30001\n",
      "41               AC 2018-12-01    45124\n",
      "42               AC 2019-01-01    59042\n",
      "43               AC 2019-02-01    21679\n",
      "44               AC 2019-03-01    40843\n",
      "45               AC 2019-04-01    51972\n",
      "46               AC 2019-05-01    49659\n",
      "47               AC 2019-06-01    32855\n",
      "48               AC 2019-07-01    62230\n",
      "49               AC 2019-08-01    41989\n"
     ]
    }
   ],
   "source": [
    "# Criar coluna Ano-Mês\n",
    "df_final['ANO_MES'] = df_final['DATA_EXIBICAO'].dt.to_period('M')\n",
    "df_final['ANO_MES'] = df_final['ANO_MES'].dt.to_timestamp()\n",
    "\n",
    "# Agrupar público por UF e mês\n",
    "publico_uf_tempo = df_final.groupby(['UF_SALA_COMPLEXO','ANO_MES'])['PUBLICO'].sum().reset_index()\n",
    "\n",
    "# Plot interativo para todos os estados\n",
    "fig = px.line(\n",
    "    publico_uf_tempo,\n",
    "    x='ANO_MES',\n",
    "    y='PUBLICO',\n",
    "    color='UF_SALA_COMPLEXO',\n",
    "    markers=True,\n",
    "    hover_data={'UF_SALA_COMPLEXO':True, 'PUBLICO':True, 'ANO_MES':True},\n",
    "    color_discrete_sequence=px.colors.qualitative.Bold  # cores diferenciadas para muitos estados\n",
    ")\n",
    "\n",
    "fig.update_layout(\n",
    "    title=\"Evolução do público ao longo do tempo por UF (todos os estados)\",\n",
    "    xaxis_title=\"Ano-Mês\",\n",
    "    yaxis_title=\"Total de Público\",\n",
    "    legend_title=\"UF\",\n",
    "    hovermode=\"x unified\"\n",
    ")\n",
    "\n",
    "fig.show(renderer=\"browser\")\n",
    "print(publico_uf_tempo.head(50))"
   ]
  },
  {
   "cell_type": "markdown",
   "metadata": {},
   "source": [
    "3. **Perfil dos Filmes e Sessões**\n",
    "-   Quais gêneros ou tipos de filmes atraem mais público?\n",
    "\n",
    "    -   Quais foram os 20 filmes (TITULO_BRASIL) de maior PUBLICO no período? Qual a nacionalidade (PAIS_OBRA) predominante nessa lista?\n",
    "\n",
    "    -    O público médio por sessão de filmes brasileiros é comparável ao de filmes estrangeiros (em especial, os norte-americanos)?"
   ]
  },
  {
   "cell_type": "code",
   "execution_count": 82,
   "metadata": {},
   "outputs": [
    {
     "name": "stderr",
     "output_type": "stream",
     "text": [
      "/var/folders/nn/lnnz74wx5bn_5k63n278ffc80000gn/T/ipykernel_24123/205333338.py:2: FutureWarning:\n",
      "\n",
      "The default of observed=False is deprecated and will be changed to True in a future version of pandas. Pass observed=False to retain current behavior or observed=True to adopt the future default and silence this warning.\n",
      "\n"
     ]
    },
    {
     "name": "stdout",
     "output_type": "stream",
     "text": [
      "--------------------------------------------------------------------------------------------\n",
      "Top 20 filmes de maior público\n",
      "--------------------------------------------------------------------------------------------\n",
      "                                   TITULO_BRASIL       PAIS_OBRA   PUBLICO\n",
      "134004                         DIVERTIDA MENTE 2  ESTADOS UNIDOS  22184898\n",
      "418719                      VINGADORES: ULTIMATO  ESTADOS UNIDOS  19361828\n",
      "185682         HOMEM-ARANHA: SEM VOLTA PARA CASA  ESTADOS UNIDOS  16643009\n",
      "295113                                O REI LEÃO  ESTADOS UNIDOS  16055534\n",
      "418638               VINGADORES: GUERRA INFINITA  ESTADOS UNIDOS  14286806\n",
      "73254                  AVATAR: O CAMINHO DA ÁGUA  ESTADOS UNIDOS  11563525\n",
      "251189                             NADA A PERDER          BRASIL  11418455\n",
      "239120                    MINHA MÃE É UMA PEÇA 3          BRASIL  11376931\n",
      "78195                                     BARBIE  ESTADOS UNIDOS  10694490\n",
      "211764                             LILO & STITCH  ESTADOS UNIDOS  10188226\n",
      "313176                            OS INCRÍVEIS 2  ESTADOS UNIDOS   9711506\n",
      "115195                                   CORINGA          CANADÁ   9488050\n",
      "242041                                   MOANA 2          CANADÁ   8989795\n",
      "96420                              CAPITÃ MARVEL  ESTADOS UNIDOS   8912389\n",
      "234444                    MEU MALVADO FAVORITO 3  ESTADOS UNIDOS   8806062\n",
      "239039                    MINHA MÃE É UMA PEÇA 2          BRASIL   8793951\n",
      "211116                           LIGA DA JUSTIÇA  ESTADOS UNIDOS   8479881\n",
      "61266                                    AQUAMAN  ESTADOS UNIDOS   8449550\n",
      "139269  DOUTOR ESTRANHO NO MULTIVERSO DA LOUCURA  ESTADOS UNIDOS   8306633\n",
      "414430                      VELOZES E FURIOSOS 8          FRANÇA   8146005\n"
     ]
    }
   ],
   "source": [
    "# Agrupar público por filme\n",
    "publico_filmes = df_final.groupby(['TITULO_BRASIL','PAIS_OBRA']).agg({'PUBLICO':'sum'}).reset_index()\n",
    "\n",
    "# Top 20 filmes por público\n",
    "top20_filmes = publico_filmes.sort_values(by='PUBLICO', ascending=False).head(20)\n",
    "\n",
    "print(\"--------------------------------------------------------------------------------------------\")\n",
    "print(\"Top 20 filmes de maior público\")\n",
    "print(\"--------------------------------------------------------------------------------------------\")\n",
    "print(top20_filmes)"
   ]
  },
  {
   "cell_type": "code",
   "execution_count": 85,
   "metadata": {},
   "outputs": [
    {
     "name": "stdout",
     "output_type": "stream",
     "text": [
      "--------------------------------------------------------------------------------------------\n",
      "Público médio por sessão por nacionalidade\n",
      "--------------------------------------------------------------------------------------------\n",
      "  NACIONALIDADE    PUBLICO\n",
      "0        BRASIL  26.245221\n",
      "1           EUA  35.026023\n",
      "2        Outros  24.798892\n"
     ]
    }
   ],
   "source": [
    "# Garantir PUBLICO numérico\n",
    "df_final['PUBLICO'] = pd.to_numeric(df_final['PUBLICO'], errors='coerce').fillna(0).astype(int)\n",
    "\n",
    "# Criar coluna de nacionalidade simplificada\n",
    "def nacionalidade_cat(pais):\n",
    "    if pais == 'BRASIL':\n",
    "        return 'BRASIL'\n",
    "    elif pais == 'ESTADOS UNIDOS':\n",
    "        return 'EUA'\n",
    "    else:\n",
    "        return 'Outros'\n",
    "\n",
    "df_final['NACIONALIDADE'] = df_final['PAIS_OBRA'].apply(nacionalidade_cat)\n",
    "\n",
    "# Agrupar público médio por nacionalidade\n",
    "publico_medio_nacionalidade = df_final.groupby('NACIONALIDADE')['PUBLICO'].mean().reset_index()\n",
    "\n",
    "print(\"--------------------------------------------------------------------------------------------\")\n",
    "print(\"Público médio por sessão por nacionalidade\")\n",
    "print(\"--------------------------------------------------------------------------------------------\")\n",
    "print(publico_medio_nacionalidade)"
   ]
  },
  {
   "cell_type": "markdown",
   "metadata": {},
   "source": [
    "-   Filmes legendados ou dublados têm desempenho diferente em diferentes regiões?\n",
    "\n",
    "    -   Filmes com AUDIO original e LEGENDADA atraem mais público do que os dublados?\n",
    "\n",
    "    -   Essa preferência de formato (dublado vs. legendado) é a mesma em todas as UF_SALA_COMPLEXO?"
   ]
  },
  {
   "cell_type": "code",
   "execution_count": 86,
   "metadata": {},
   "outputs": [
    {
     "name": "stderr",
     "output_type": "stream",
     "text": [
      "/var/folders/nn/lnnz74wx5bn_5k63n278ffc80000gn/T/ipykernel_24123/1747687558.py:5: FutureWarning:\n",
      "\n",
      "The default of observed=False is deprecated and will be changed to True in a future version of pandas. Pass observed=False to retain current behavior or observed=True to adopt the future default and silence this warning.\n",
      "\n"
     ]
    },
    {
     "name": "stdout",
     "output_type": "stream",
     "text": [
      "--------------------------------------------------------------------------------------------\n",
      "Público médio por tipo de áudio\n",
      "--------------------------------------------------------------------------------------------\n",
      "      AUDIO    PUBLICO\n",
      "0   DUBLADO  34.074300\n",
      "1  ORIGINAL  29.318993\n"
     ]
    }
   ],
   "source": [
    "# Garantir PUBLICO numérico\n",
    "df_final['PUBLICO'] = pd.to_numeric(df_final['PUBLICO'], errors='coerce').fillna(0).astype(int)\n",
    "\n",
    "# Agrupar público médio por tipo de exibição\n",
    "publico_audio = df_final.groupby('AUDIO')['PUBLICO'].mean().reset_index().sort_values(by='PUBLICO', ascending=False)\n",
    "\n",
    "print(\"--------------------------------------------------------------------------------------------\")\n",
    "print(\"Público médio por tipo de áudio\")\n",
    "print(\"--------------------------------------------------------------------------------------------\")\n",
    "print(publico_audio)\n"
   ]
  },
  {
   "cell_type": "code",
   "execution_count": 87,
   "metadata": {},
   "outputs": [
    {
     "name": "stderr",
     "output_type": "stream",
     "text": [
      "/var/folders/nn/lnnz74wx5bn_5k63n278ffc80000gn/T/ipykernel_24123/2524317115.py:2: FutureWarning:\n",
      "\n",
      "The default of observed=False is deprecated and will be changed to True in a future version of pandas. Pass observed=False to retain current behavior or observed=True to adopt the future default and silence this warning.\n",
      "\n"
     ]
    },
    {
     "name": "stdout",
     "output_type": "stream",
     "text": [
      "--------------------------------------------------------------------------------------------\n",
      "Público médio por tipo de áudio por UF\n",
      "--------------------------------------------------------------------------------------------\n",
      "   UF_SALA_COMPLEXO     AUDIO    PUBLICO\n",
      "0                AC   DUBLADO  51.504093\n",
      "1                AC  ORIGINAL  28.954095\n",
      "2                AL   DUBLADO  39.119660\n",
      "3                AL  ORIGINAL  30.122901\n",
      "4                AM   DUBLADO  36.624546\n",
      "5                AM  ORIGINAL  25.621373\n",
      "6                AP   DUBLADO  30.278122\n",
      "7                AP  ORIGINAL  21.346325\n",
      "8                BA   DUBLADO  34.848230\n",
      "9                BA  ORIGINAL  28.910650\n",
      "10               CE   DUBLADO  35.018778\n",
      "11               CE  ORIGINAL  33.810529\n",
      "12               DF   DUBLADO  42.092601\n",
      "13               DF  ORIGINAL  31.889844\n",
      "14               ES   DUBLADO  29.204208\n",
      "15               ES  ORIGINAL  26.802468\n",
      "16               GO   DUBLADO  27.424735\n",
      "17               GO  ORIGINAL  30.129098\n",
      "18               MA   DUBLADO  29.637885\n",
      "19               MA  ORIGINAL  25.431331\n"
     ]
    }
   ],
   "source": [
    "# Agrupar público médio por estado e tipo de áudio\n",
    "publico_audio_uf = df_final.groupby(['UF_SALA_COMPLEXO','AUDIO'])['PUBLICO'].mean().reset_index()\n",
    "\n",
    "print(\"--------------------------------------------------------------------------------------------\")\n",
    "print(\"Público médio por tipo de áudio por UF\")\n",
    "print(\"--------------------------------------------------------------------------------------------\")\n",
    "print(publico_audio_uf.head(20))"
   ]
  },
  {
   "cell_type": "markdown",
   "metadata": {},
   "source": [
    "4. **Desempenho das Exibidoras**\n",
    "-   Quantas exibidoras e complexos estão ativos em cada região? Há concentração de mercado em determinadas empresas?\n",
    "\n",
    "    -   Quais são os maiores grupos exibidores (RAZAO_SOCIAL_EXIBIDORA) em termos de PUBLICO total e número de salas?\n",
    "\n",
    "    -   Quantas empresas exibidoras distintas (CNPJ_EXIBIDORA) estão ativas no dataset e como se distribuem geograficamente?"
   ]
  },
  {
   "cell_type": "code",
   "execution_count": 88,
   "metadata": {},
   "outputs": [
    {
     "name": "stderr",
     "output_type": "stream",
     "text": [
      "/var/folders/nn/lnnz74wx5bn_5k63n278ffc80000gn/T/ipykernel_24123/1491745785.py:2: FutureWarning:\n",
      "\n",
      "The default of observed=False is deprecated and will be changed to True in a future version of pandas. Pass observed=False to retain current behavior or observed=True to adopt the future default and silence this warning.\n",
      "\n"
     ]
    },
    {
     "name": "stdout",
     "output_type": "stream",
     "text": [
      "--------------------------------------------------------------------------------------------\n",
      "Número de complexos e salas por UF\n",
      "--------------------------------------------------------------------------------------------\n",
      "   UF_SALA_COMPLEXO  Num_Complexos  Num_Salas\n",
      "25               SP            339       1423\n",
      "18               RJ            117        474\n",
      "10               MG            116        350\n",
      "17               PR             97        341\n",
      "22               RS             76        249\n",
      "8                GO             58        217\n",
      "23               SC             62        202\n",
      "4                BA             50        172\n",
      "5                CE             32        127\n",
      "15               PE             23        123\n",
      "6                DF             18        104\n",
      "13               PA             27        103\n",
      "9                MA             24         96\n",
      "2                AM             13         84\n",
      "12               MT             21         82\n",
      "7                ES             23         82\n",
      "14               PB             15         53\n",
      "20               RO             17         46\n",
      "26               TO             12         44\n",
      "24               SE             11         43\n",
      "19               RN              7         41\n",
      "16               PI              8         40\n",
      "11               MS              8         36\n",
      "1                AL              8         35\n",
      "21               RR              4         19\n",
      "3                AP              3         15\n",
      "0                AC              1          6\n"
     ]
    }
   ],
   "source": [
    "# Agrupar por UF\n",
    "uf_exibidoras = df_final.groupby('UF_SALA_COMPLEXO').agg({\n",
    "    'REGISTRO_COMPLEXO':'nunique',\n",
    "    'REGISTRO_SALA':'nunique'\n",
    "}).reset_index().rename(columns={\n",
    "    'REGISTRO_COMPLEXO':'Num_Complexos',\n",
    "    'REGISTRO_SALA':'Num_Salas'\n",
    "})\n",
    "\n",
    "print(\"--------------------------------------------------------------------------------------------\")\n",
    "print(\"Número de complexos e salas por UF\")\n",
    "print(\"--------------------------------------------------------------------------------------------\")\n",
    "print(uf_exibidoras.sort_values(by='Num_Salas', ascending=False))"
   ]
  },
  {
   "cell_type": "code",
   "execution_count": 89,
   "metadata": {},
   "outputs": [
    {
     "name": "stderr",
     "output_type": "stream",
     "text": [
      "/var/folders/nn/lnnz74wx5bn_5k63n278ffc80000gn/T/ipykernel_24123/3074235364.py:2: FutureWarning:\n",
      "\n",
      "The default of observed=False is deprecated and will be changed to True in a future version of pandas. Pass observed=False to retain current behavior or observed=True to adopt the future default and silence this warning.\n",
      "\n"
     ]
    },
    {
     "name": "stdout",
     "output_type": "stream",
     "text": [
      "--------------------------------------------------------------------------------------------\n",
      "Top 10 maiores grupos exibidores por público total\n",
      "--------------------------------------------------------------------------------------------\n",
      "                                RAZAO_SOCIAL_EXIBIDORA  Publico_Total  \\\n",
      "136                                CINEMARK BRASIL S.A      259961650   \n",
      "191      CINEPOLIS OPERADORA DE CINEMAS DO BRASIL LTDA      140359362   \n",
      "225                       EMPRESA CINEMAS SÃO LUIZ S/A       74439189   \n",
      "348                   MSA EMPRESA CINEMATOGRÁFICA LTDA       67212738   \n",
      "444          UNITED CINEMAS INTERNATIONAL BRASIL LTDA.       53193753   \n",
      "440                                   UCI RIBEIRO LTDA       32569524   \n",
      "385                  REDECINE BRA CINEMATOGRÁFICA S.A.       28931880   \n",
      "216                                  DELTA FILMES LTDA       25197706   \n",
      "372  PRAIA DE BELAS EMPREENDIMENTOS CINEMATOGRÁFICO...       21113377   \n",
      "337                                 MOVIE CINEMAS LTDA       17482168   \n",
      "\n",
      "     Num_Salas  \n",
      "136        647  \n",
      "191        443  \n",
      "225        174  \n",
      "348        134  \n",
      "444        144  \n",
      "440         64  \n",
      "385        156  \n",
      "216         76  \n",
      "372         51  \n",
      "337         62  \n"
     ]
    }
   ],
   "source": [
    "# Agrupar por grupo exibidor\n",
    "grupos_exibidores = df_final.groupby('RAZAO_SOCIAL_EXIBIDORA').agg({\n",
    "    'PUBLICO':'sum',\n",
    "    'REGISTRO_SALA':'nunique'\n",
    "}).reset_index().rename(columns={'REGISTRO_SALA':'Num_Salas','PUBLICO':'Publico_Total'})\n",
    "\n",
    "# Top 10 grupos\n",
    "top10_grupos = grupos_exibidores.sort_values(by='Publico_Total', ascending=False).head(10)\n",
    "\n",
    "print(\"--------------------------------------------------------------------------------------------\")\n",
    "print(\"Top 10 maiores grupos exibidores por público total\")\n",
    "print(\"--------------------------------------------------------------------------------------------\")\n",
    "print(top10_grupos)"
   ]
  },
  {
   "cell_type": "code",
   "execution_count": 90,
   "metadata": {},
   "outputs": [
    {
     "name": "stdout",
     "output_type": "stream",
     "text": [
      "--------------------------------------------------------------------------------------------\n",
      "Número total de empresas exibidoras distintas: 460\n",
      "--------------------------------------------------------------------------------------------\n"
     ]
    },
    {
     "name": "stderr",
     "output_type": "stream",
     "text": [
      "/var/folders/nn/lnnz74wx5bn_5k63n278ffc80000gn/T/ipykernel_24123/1211010548.py:8: FutureWarning:\n",
      "\n",
      "The default of observed=False is deprecated and will be changed to True in a future version of pandas. Pass observed=False to retain current behavior or observed=True to adopt the future default and silence this warning.\n",
      "\n"
     ]
    },
    {
     "name": "stdout",
     "output_type": "stream",
     "text": [
      "Distribuição de empresas exibidoras por UF\n",
      "   UF_SALA_COMPLEXO  Num_Empresas\n",
      "25               SP           125\n",
      "10               MG            74\n",
      "17               PR            58\n",
      "18               RJ            52\n",
      "22               RS            46\n",
      "4                BA            31\n",
      "8                GO            30\n",
      "23               SC            27\n",
      "9                MA            22\n",
      "7                ES            20\n",
      "12               MT            18\n",
      "5                CE            17\n",
      "13               PA            16\n",
      "15               PE            15\n",
      "6                DF            14\n",
      "14               PB            12\n",
      "24               SE            10\n",
      "2                AM            10\n",
      "20               RO             9\n",
      "26               TO             9\n",
      "1                AL             7\n",
      "11               MS             7\n",
      "19               RN             6\n",
      "16               PI             6\n",
      "21               RR             4\n",
      "3                AP             3\n",
      "0                AC             1\n"
     ]
    }
   ],
   "source": [
    "# Número total de empresas distintas\n",
    "num_empresas = df_final['CNPJ_EXIBIDORA'].nunique()\n",
    "print(\"--------------------------------------------------------------------------------------------\")\n",
    "print(f\"Número total de empresas exibidoras distintas: {num_empresas}\")\n",
    "print(\"--------------------------------------------------------------------------------------------\")\n",
    "\n",
    "# Distribuição por UF\n",
    "empresas_uf = df_final.groupby('UF_SALA_COMPLEXO')['CNPJ_EXIBIDORA'].nunique().reset_index().rename(columns={'CNPJ_EXIBIDORA':'Num_Empresas'})\n",
    "print(\"Distribuição de empresas exibidoras por UF\")\n",
    "print(empresas_uf.sort_values(by='Num_Empresas', ascending=False))"
   ]
  },
  {
   "cell_type": "markdown",
   "metadata": {},
   "source": [
    "-   Existe correlação entre tamanho do complexo, número de salas e público atendido?\n",
    "\n",
    "    -   Os grandes grupos exibidores dão o mesmo espaço para filmes nacionais que os exibidores menores e independentes?\n",
    "\n",
    "    -   A presença de grandes exibidoras varia por UF_SALA_COMPLEXO? Existem estados dominados por players específicos?\n",
    "\n",
    "    -   Grandes redes de cinema (REGISTRO_GRUPO_EXIBIDOR) têm um comportamento de exibição (ex: proporção de filmes nacionais) diferente de exibidores menores ou independentes?\n",
    "\n",
    "    -   A presença de grandes exibidoras varia geograficamente? Existem estados ou regiões dominados por empresas específicas?\n",
    "\n",
    "    -   Quantas empresas exibidoras (CNPJ_EXIBIDORA) distintas estão ativas no dataset? Há uma variação significativa no número de exibidoras ativas ao longo do tempo?"
   ]
  },
  {
   "cell_type": "code",
   "execution_count": 91,
   "metadata": {},
   "outputs": [
    {
     "name": "stdout",
     "output_type": "stream",
     "text": [
      "--------------------------------------------------------------------------------------------\n",
      "Correlação entre número de salas e público total por complexo\n",
      "--------------------------------------------------------------------------------------------\n",
      "               Num_Salas  Publico_Total\n",
      "Num_Salas        1.00000        0.80045\n",
      "Publico_Total    0.80045        1.00000\n"
     ]
    }
   ],
   "source": [
    "# Agrupar por complexo\n",
    "complexos = df_final.groupby('REGISTRO_COMPLEXO').agg({\n",
    "    'REGISTRO_SALA':'nunique',\n",
    "    'PUBLICO':'sum'\n",
    "}).reset_index().rename(columns={'REGISTRO_SALA':'Num_Salas','PUBLICO':'Publico_Total'})\n",
    "\n",
    "# Calcular correlação\n",
    "correlacao = complexos[['Num_Salas','Publico_Total']].corr()\n",
    "print(\"--------------------------------------------------------------------------------------------\")\n",
    "print(\"Correlação entre número de salas e público total por complexo\")\n",
    "print(\"--------------------------------------------------------------------------------------------\")\n",
    "print(correlacao)"
   ]
  },
  {
   "cell_type": "code",
   "execution_count": 96,
   "metadata": {},
   "outputs": [
    {
     "name": "stderr",
     "output_type": "stream",
     "text": [
      "/var/folders/nn/lnnz74wx5bn_5k63n278ffc80000gn/T/ipykernel_24123/48531944.py:5: FutureWarning:\n",
      "\n",
      "The default of observed=False is deprecated and will be changed to True in a future version of pandas. Pass observed=False to retain current behavior or observed=True to adopt the future default and silence this warning.\n",
      "\n",
      "/var/folders/nn/lnnz74wx5bn_5k63n278ffc80000gn/T/ipykernel_24123/48531944.py:11: FutureWarning:\n",
      "\n",
      "The default of observed=False is deprecated and will be changed to True in a future version of pandas. Pass observed=False to retain current behavior or observed=True to adopt the future default and silence this warning.\n",
      "\n"
     ]
    },
    {
     "name": "stdout",
     "output_type": "stream",
     "text": [
      "--------------------------------------------------------------------------------------------\n",
      "Público médio por sessão por tipo de exibidor e nacionalidade\n",
      "--------------------------------------------------------------------------------------------\n",
      "   Tipo_Exibidor                        PAIS_OBRA    PUBLICO\n",
      "0         Grande                      AFEGANISTÃO        NaN\n",
      "1         Grande                         ALEMANHA  13.918733\n",
      "2         Grande                        ARGENTINA  22.202122\n",
      "3         Grande                          ARGÉLIA   7.674419\n",
      "4         Grande                   ARÁBIA SAUDITA   8.259259\n",
      "5         Grande                        AUSTRÁLIA  20.958115\n",
      "6         Grande            BELARUS (BIELORUSSIA)  16.215708\n",
      "7         Grande                          BOLÍVIA        NaN\n",
      "8         Grande                           BRASIL  29.451454\n",
      "9         Grande                         BULGÁRIA        NaN\n",
      "10        Grande                            BUTÃO   4.688889\n",
      "11        Grande                          BÉLGICA  33.210276\n",
      "12        Grande                          CAMBOJA   7.760417\n",
      "13        Grande                           CANADÁ  35.950165\n",
      "14        Grande                            CHILE  22.070720\n",
      "15        Grande                            CHINA  28.955758\n",
      "16        Grande                        CINGAPURA   9.142857\n",
      "17        Grande                         COLÔMBIA  34.842510\n",
      "18        Grande                            CONGO   1.545455\n",
      "19        Grande                  CORÉIA DO NORTE  23.857143\n",
      "20        Grande                    CORÉIA DO SUL  27.401345\n",
      "21        Grande                       COSTA RICA        NaN\n",
      "22        Grande               CROÁCIA (HRVATSKA)   8.111111\n",
      "23        Grande                             CUBA  30.737500\n",
      "24        Grande                        DINAMARCA  17.498776\n",
      "25        Grande                            EGITO   1.807692\n",
      "26        Grande           EMIRADOS ÁRABES UNIDOS  31.260002\n",
      "27        Grande                       ESLOVÁQUIA   3.826087\n",
      "28        Grande                        ESLOVÊNIA   0.142857\n",
      "29        Grande                          ESPANHA  21.243110\n",
      "30        Grande                   ESTADOS UNIDOS  40.888266\n",
      "31        Grande                          ESTÔNIA        NaN\n",
      "32        Grande                        FILIPINAS        NaN\n",
      "33        Grande                        FINLÂNDIA  13.668684\n",
      "34        Grande                           FRANÇA  41.623120\n",
      "35        Grande                           GRÉCIA   9.992823\n",
      "36        Grande                        GUATEMALA   4.746053\n",
      "37        Grande                          HOLANDA  19.566428\n",
      "38        Grande                        HONG KONG        NaN\n",
      "39        Grande                          HUNGRIA  10.416667\n",
      "40        Grande                       INGLATERRA  24.078758\n",
      "41        Grande                          IRLANDA  19.452084\n",
      "42        Grande                              IRÃ  10.774510\n",
      "43        Grande                         ISLÂNDIA        NaN\n",
      "44        Grande                           ISRAEL   7.256569\n",
      "45        Grande                           ITÁLIA   5.246510\n",
      "46        Grande                            IÊMEN        NaN\n",
      "47        Grande                            JAPÃO  28.371115\n",
      "48        Grande                       LUXEMBURGO        NaN\n",
      "49        Grande                           LÍBANO  20.343915\n",
      "50        Grande  MACEDÔNIA (REPÚBLICA YUGOSLAVA)        NaN\n",
      "51        Grande                          MALÁSIA   6.526872\n",
      "52        Grande                           MÉXICO  13.736519\n",
      "53        Grande                          NIGÉRIA        NaN\n",
      "54        Grande                          NORUEGA  13.507818\n",
      "55        Grande                    NOVA ZELÂNDIA        NaN\n",
      "56        Grande                           PANAMÁ  37.194030\n",
      "57        Grande                         PARAGUAI        NaN\n",
      "58        Grande                             PERU  13.380150\n",
      "59        Grande                          POLÔNIA  20.569054\n"
     ]
    }
   ],
   "source": [
    "# Garantir PUBLICO numérico\n",
    "df_final['PUBLICO'] = pd.to_numeric(df_final['PUBLICO'], errors='coerce').fillna(0).astype(int)\n",
    "\n",
    "# Definir grandes exibidores (top 10 por público total)\n",
    "top_grandes = df_final.groupby('RAZAO_SOCIAL_EXIBIDORA')['PUBLICO'].sum().nlargest(10).index.tolist()\n",
    "\n",
    "# Criar coluna Tipo_Exibidor\n",
    "df_final['Tipo_Exibidor'] = df_final['RAZAO_SOCIAL_EXIBIDORA'].apply(lambda x: 'Grande' if x in top_grandes else 'Pequeno/Independente')\n",
    "\n",
    "# Agrupar público médio por tipo de exibidor e nacionalidade\n",
    "publico_nacionalidade = df_final.groupby(['Tipo_Exibidor','PAIS_OBRA'])['PUBLICO'].mean().reset_index()\n",
    "\n",
    "print(\"--------------------------------------------------------------------------------------------\")\n",
    "print(\"Público médio por sessão por tipo de exibidor e nacionalidade\")\n",
    "print(\"--------------------------------------------------------------------------------------------\")\n",
    "print(publico_nacionalidade.head(60))"
   ]
  },
  {
   "cell_type": "code",
   "execution_count": 97,
   "metadata": {},
   "outputs": [
    {
     "name": "stderr",
     "output_type": "stream",
     "text": [
      "/var/folders/nn/lnnz74wx5bn_5k63n278ffc80000gn/T/ipykernel_24123/2472448729.py:2: FutureWarning:\n",
      "\n",
      "The default of observed=False is deprecated and will be changed to True in a future version of pandas. Pass observed=False to retain current behavior or observed=True to adopt the future default and silence this warning.\n",
      "\n"
     ]
    },
    {
     "name": "stdout",
     "output_type": "stream",
     "text": [
      "--------------------------------------------------------------------------------------------\n",
      "Distribuição de grandes exibidoras por UF\n",
      "--------------------------------------------------------------------------------------------\n",
      "      UF_SALA_COMPLEXO                             RAZAO_SOCIAL_EXIBIDORA  \\\n",
      "0                   AC  ACAMLS - ASSOCIAÇÃO CULTURAL DE AMIGOS DO MUSE...   \n",
      "1                   AC             ADICINE ADMINISTRADORA DE CINEMAS LTDA   \n",
      "2                   AC                                   ADRIANA MOSER ME   \n",
      "3                   AC                         ADRIANO RICARDO LEITE - ME   \n",
      "4                   AC                        AFA CINEMATOGRÁFICA LTDA ME   \n",
      "...                ...                                                ...   \n",
      "12388               TO             WELLINGTON CARDOSO DA LUZ CINEMAS LTDA   \n",
      "12389               TO                                     WEST CINE LTDA   \n",
      "12390               TO                     WEST SIDE SHOPPING CENTER LTDA   \n",
      "12391               TO        WILDE MARIA PEREIRA DOS SANTOS QUADROS - ME   \n",
      "12392               TO                                       XMOVIES LTDA   \n",
      "\n",
      "       Num_Complexos  \n",
      "0                  0  \n",
      "1                  0  \n",
      "2                  0  \n",
      "3                  0  \n",
      "4                  0  \n",
      "...              ...  \n",
      "12388              0  \n",
      "12389              0  \n",
      "12390              0  \n",
      "12391              0  \n",
      "12392              0  \n",
      "\n",
      "[12393 rows x 3 columns]\n"
     ]
    }
   ],
   "source": [
    "# Contar número de complexos por grande exibidor em cada UF\n",
    "concentracao_uf = df_final[df_final['RAZAO_SOCIAL_EXIBIDORA'].isin(top_grandes)].groupby(['UF_SALA_COMPLEXO','RAZAO_SOCIAL_EXIBIDORA'])['REGISTRO_COMPLEXO'].nunique().reset_index().rename(columns={'REGISTRO_COMPLEXO':'Num_Complexos'})\n",
    "\n",
    "print(\"--------------------------------------------------------------------------------------------\")\n",
    "print(\"Distribuição de grandes exibidoras por UF\")\n",
    "print(\"--------------------------------------------------------------------------------------------\")\n",
    "print(concentracao_uf.sort_values(by=['UF_SALA_COMPLEXO','Num_Complexos'], ascending=[True,False]))"
   ]
  },
  {
   "cell_type": "code",
   "execution_count": 100,
   "metadata": {},
   "outputs": [
    {
     "name": "stderr",
     "output_type": "stream",
     "text": [
      "/var/folders/nn/lnnz74wx5bn_5k63n278ffc80000gn/T/ipykernel_24123/3462067.py:11: FutureWarning:\n",
      "\n",
      "The default of observed=False is deprecated and will be changed to True in a future version of pandas. Pass observed=False to retain current behavior or observed=True to adopt the future default and silence this warning.\n",
      "\n"
     ]
    },
    {
     "name": "stdout",
     "output_type": "stream",
     "text": [
      "--------------------------------------------------------------------------------------------\n",
      "Proporção de filmes nacionais por tipo de grupo exibidor\n",
      "--------------------------------------------------------------------------------------------\n",
      "              Tipo_Grupo  Proporcao_Nacional\n",
      "8                 Grande            0.132717\n",
      "89  Pequeno/Independente            0.118898\n"
     ]
    }
   ],
   "source": [
    "# Garantir PUBLICO numérico\n",
    "df_final['PUBLICO'] = pd.to_numeric(df_final['PUBLICO'], errors='coerce').fillna(0).astype(int)\n",
    "\n",
    "# Definir grandes grupos por público total (top 10)\n",
    "top_grupos = df_final.groupby('REGISTRO_GRUPO_EXIBIDOR')['PUBLICO'].sum().nlargest(10).index.tolist()\n",
    "\n",
    "# Criar coluna Tipo_Grupo\n",
    "df_final['Tipo_Grupo'] = df_final['REGISTRO_GRUPO_EXIBIDOR'].apply(lambda x: 'Grande' if x in top_grupos else 'Pequeno/Independente')\n",
    "\n",
    "# Agrupar total de sessões por tipo de grupo e nacionalidade\n",
    "sessao_nacionalidade = df_final.groupby(['Tipo_Grupo','PAIS_OBRA'])['REGISTRO_SALA'].count().reset_index().rename(columns={'REGISTRO_SALA':'Num_Sessoes'})\n",
    "\n",
    "# Calcular proporção de sessões nacionais\n",
    "total_sessoes = sessao_nacionalidade.groupby('Tipo_Grupo')['Num_Sessoes'].sum().reset_index().rename(columns={'Num_Sessoes':'Total_Sessoes'})\n",
    "sessao_nacionalidade = sessao_nacionalidade.merge(total_sessoes, on='Tipo_Grupo')\n",
    "sessao_nacionalidade['Proporcao_Nacional'] = sessao_nacionalidade.apply(lambda row: row['Num_Sessoes']/row['Total_Sessoes'] if row['PAIS_OBRA']=='BRASIL' else 0, axis=1)\n",
    "\n",
    "# Filtrar apenas a proporção de filmes nacionais\n",
    "proporcao_nacional = sessao_nacionalidade[sessao_nacionalidade['PAIS_OBRA']=='BRASIL'][['Tipo_Grupo','Proporcao_Nacional']]\n",
    "\n",
    "print(\"--------------------------------------------------------------------------------------------\")\n",
    "print(\"Proporção de filmes nacionais por tipo de grupo exibidor\")\n",
    "print(\"--------------------------------------------------------------------------------------------\")\n",
    "print(proporcao_nacional)"
   ]
  },
  {
   "cell_type": "code",
   "execution_count": 102,
   "metadata": {},
   "outputs": [
    {
     "name": "stdout",
     "output_type": "stream",
     "text": [
      "--------------------------------------------------------------------------------------------\n",
      "Número total de empresas exibidoras distintas no dataset: 460\n",
      "--------------------------------------------------------------------------------------------\n",
      "--------------------------------------------------------------------------------------------\n",
      "Número de empresas exibidoras ativas por ano\n",
      "--------------------------------------------------------------------------------------------\n",
      "    ANO_EXIBICAO  Num_Empresas_Ativas\n",
      "0           2014                    1\n",
      "1           2015                    1\n",
      "2           2016                  205\n",
      "3           2017                  303\n",
      "4           2018                  317\n",
      "5           2019                  324\n",
      "6           2020                  312\n",
      "7           2021                  288\n",
      "8           2022                  312\n",
      "9           2023                  315\n",
      "10          2024                  328\n",
      "11          2025                  326\n"
     ]
    }
   ],
   "source": [
    "# Número total de empresas distintas\n",
    "num_empresas = df_final['CNPJ_EXIBIDORA'].nunique()\n",
    "print(\"--------------------------------------------------------------------------------------------\")\n",
    "print(f\"Número total de empresas exibidoras distintas no dataset: {num_empresas}\")\n",
    "print(\"--------------------------------------------------------------------------------------------\")\n",
    "\n",
    "# Criar coluna de ano\n",
    "df_final['ANO_EXIBICAO'] = pd.to_datetime(df_final['DATA_EXIBICAO'], errors='coerce').dt.year\n",
    "\n",
    "# Número de empresas ativas por ano\n",
    "empresas_ano = df_final.groupby('ANO_EXIBICAO')['CNPJ_EXIBIDORA'].nunique().reset_index().rename(columns={'CNPJ_EXIBIDORA':'Num_Empresas_Ativas'})\n",
    "\n",
    "print(\"--------------------------------------------------------------------------------------------\")\n",
    "print(\"Número de empresas exibidoras ativas por ano\")\n",
    "print(\"--------------------------------------------------------------------------------------------\")\n",
    "print(empresas_ano)\n",
    "\n"
   ]
  },
  {
   "cell_type": "markdown",
   "metadata": {
    "id": "VG897rGOo1Rv"
   },
   "source": [
    "# Cronograma\n",
    "\n",
    "| Etapa                         | Atividade                                                      | Data de Entrega   |\n",
    "|-------------------------------|----------------------------------------------------------------|------------------|\n",
    "| Etapa 1                       | Coleta e organização dos dados (ANCINE)                        | Semana 1         |\n",
    "| Etapa 2                       | Pré-processamento e limpeza de dados                           | Semana 2         |\n",
    "| Etapa 3                       | Análise exploratória (EDA) e estatísticas descritivas           | Semana 3         |\n",
    "| Etapa 4                       | Modelagem de séries temporais (ARIMA, SARIMA, LSTM)            | Semana 4-5       |\n",
    "| Etapa 5                       | Avaliação de modelos e ajustes finais                          | Semana 6         |\n",
    "| Etapa 6                       | Elaboração de relatório e preparação da apresentação           | Semana 7         |\n"
   ]
  },
  {
   "cell_type": "markdown",
   "metadata": {
    "id": "KucOdKJLo3bG"
   },
   "source": [
    "# Referências\n",
    "\n",
    "- ONU. Transformando nosso mundo: a Agenda 2030 para o Desenvolvimento Sustentável. Disponível em: https://sc.movimentoods.org.br/agenda-2030/. Acesso em: 28 ago. 2025.  \n",
    "- INSTITUTO BRASILEIRO DE GEOGRAFIA E ESTATÍSTICA (IBGE). País tem quase 40% da população em municípios sem salas de cinema. Agência de Notícias IBGE, 2020. Disponível em: https://agenciadenoticias.ibge.gov.br/agencia-noticias/2012-agencia-de-noticias/noticias/26239-pais-tem-quase-40-da-populacao-em-municipios-sem-salas-de-cinema. Acesso em: 28 ago. 2025.  \n",
    "- INSTITUTO DE CINEMA. Democratização do acesso ao cinema no Brasil: Enem traz tema extremamente pertinente para a redação 2019. Instituto de Cinema, 2019. Disponível em: https://institutodecinema.com.br/mais/conteudo/democratizacao-do-acesso-ao-cinema-no-brasil-enem-traz-tema-extremamente-pertinente-para-a-redacao-2019. Acesso em: 28 ago. 2025.  \n",
    "- AGÊNCIA NACIONAL DO CINEMA – ANCINE; PORTAL BRASILEIRO DE DADOS ABERTOS. Relatório de bilheteria diária de obras informadas pelas exibidoras. Disponível em: https://dados.gov.br/dados/conjuntos-dados/relatorio-de-bilheteria-diaria-de-obras-informadas-pelas-exibidoras. Acesso em: 28 ago. 2025.  \n"
   ]
  },
  {
   "cell_type": "code",
   "execution_count": null,
   "metadata": {
    "id": "Ad98o5dRo8Wq"
   },
   "outputs": [],
   "source": [
    "#@title **Avaliação**\n",
    "Referencial_teorico = 10 #@param {type:\"slider\", min:0, max:10, step:1}\n",
    "\n",
    "Pipeline_solucao = 10 #@param {type:\"slider\", min:0, max:10, step:1}\n",
    "\n",
    "Cronograma = 10 #@param {type:\"slider\", min:0, max:10, step:1}"
   ]
  },
  {
   "cell_type": "code",
   "execution_count": null,
   "metadata": {
    "colab": {
     "base_uri": "https://localhost:8080/",
     "height": 261
    },
    "id": "8R_VW8bEpKvN",
    "outputId": "906ef325-9db0-4ef7-8453-156cdd899883"
   },
   "outputs": [
    {
     "name": "stdout",
     "output_type": "stream",
     "text": [
      "Nota final do trabalho 10.0\n",
      "\n"
     ]
    },
    {
     "data": {
      "application/vnd.google.colaboratory.intrinsic+json": {
       "summary": "{\n  \"name\": \"alunos\",\n  \"rows\": 5,\n  \"fields\": [\n    {\n      \"column\": \"nome\",\n      \"properties\": {\n        \"dtype\": \"string\",\n        \"num_unique_values\": 5,\n        \"samples\": [\n          \"Aluno 2\",\n          \"Aluno 5\",\n          \"Aluno 3\"\n        ],\n        \"semantic_type\": \"\",\n        \"description\": \"\"\n      }\n    },\n    {\n      \"column\": \"nota\",\n      \"properties\": {\n        \"dtype\": \"number\",\n        \"std\": 0.0,\n        \"min\": 10.0,\n        \"max\": 10.0,\n        \"num_unique_values\": 1,\n        \"samples\": [\n          10.0\n        ],\n        \"semantic_type\": \"\",\n        \"description\": \"\"\n      }\n    }\n  ]\n}",
       "type": "dataframe",
       "variable_name": "alunos"
      },
      "text/html": [
       "\n",
       "  <div id=\"df-43275814-efa8-4e10-a45e-e22b05a1fb87\" class=\"colab-df-container\">\n",
       "    <div>\n",
       "<style scoped>\n",
       "    .dataframe tbody tr th:only-of-type {\n",
       "        vertical-align: middle;\n",
       "    }\n",
       "\n",
       "    .dataframe tbody tr th {\n",
       "        vertical-align: top;\n",
       "    }\n",
       "\n",
       "    .dataframe thead th {\n",
       "        text-align: right;\n",
       "    }\n",
       "</style>\n",
       "<table border=\"1\" class=\"dataframe\">\n",
       "  <thead>\n",
       "    <tr style=\"text-align: right;\">\n",
       "      <th></th>\n",
       "      <th>nome</th>\n",
       "      <th>nota</th>\n",
       "    </tr>\n",
       "  </thead>\n",
       "  <tbody>\n",
       "    <tr>\n",
       "      <th>0</th>\n",
       "      <td>Aluno 1</td>\n",
       "      <td>10.0</td>\n",
       "    </tr>\n",
       "    <tr>\n",
       "      <th>1</th>\n",
       "      <td>Aluno 2</td>\n",
       "      <td>10.0</td>\n",
       "    </tr>\n",
       "    <tr>\n",
       "      <th>2</th>\n",
       "      <td>Aluno 3</td>\n",
       "      <td>10.0</td>\n",
       "    </tr>\n",
       "    <tr>\n",
       "      <th>3</th>\n",
       "      <td>Aluno 4</td>\n",
       "      <td>10.0</td>\n",
       "    </tr>\n",
       "    <tr>\n",
       "      <th>4</th>\n",
       "      <td>Aluno 5</td>\n",
       "      <td>10.0</td>\n",
       "    </tr>\n",
       "  </tbody>\n",
       "</table>\n",
       "</div>\n",
       "    <div class=\"colab-df-buttons\">\n",
       "\n",
       "  <div class=\"colab-df-container\">\n",
       "    <button class=\"colab-df-convert\" onclick=\"convertToInteractive('df-43275814-efa8-4e10-a45e-e22b05a1fb87')\"\n",
       "            title=\"Convert this dataframe to an interactive table.\"\n",
       "            style=\"display:none;\">\n",
       "\n",
       "  <svg xmlns=\"http://www.w3.org/2000/svg\" height=\"24px\" viewBox=\"0 -960 960 960\">\n",
       "    <path d=\"M120-120v-720h720v720H120Zm60-500h600v-160H180v160Zm220 220h160v-160H400v160Zm0 220h160v-160H400v160ZM180-400h160v-160H180v160Zm440 0h160v-160H620v160ZM180-180h160v-160H180v160Zm440 0h160v-160H620v160Z\"/>\n",
       "  </svg>\n",
       "    </button>\n",
       "\n",
       "  <style>\n",
       "    .colab-df-container {\n",
       "      display:flex;\n",
       "      gap: 12px;\n",
       "    }\n",
       "\n",
       "    .colab-df-convert {\n",
       "      background-color: #E8F0FE;\n",
       "      border: none;\n",
       "      border-radius: 50%;\n",
       "      cursor: pointer;\n",
       "      display: none;\n",
       "      fill: #1967D2;\n",
       "      height: 32px;\n",
       "      padding: 0 0 0 0;\n",
       "      width: 32px;\n",
       "    }\n",
       "\n",
       "    .colab-df-convert:hover {\n",
       "      background-color: #E2EBFA;\n",
       "      box-shadow: 0px 1px 2px rgba(60, 64, 67, 0.3), 0px 1px 3px 1px rgba(60, 64, 67, 0.15);\n",
       "      fill: #174EA6;\n",
       "    }\n",
       "\n",
       "    .colab-df-buttons div {\n",
       "      margin-bottom: 4px;\n",
       "    }\n",
       "\n",
       "    [theme=dark] .colab-df-convert {\n",
       "      background-color: #3B4455;\n",
       "      fill: #D2E3FC;\n",
       "    }\n",
       "\n",
       "    [theme=dark] .colab-df-convert:hover {\n",
       "      background-color: #434B5C;\n",
       "      box-shadow: 0px 1px 3px 1px rgba(0, 0, 0, 0.15);\n",
       "      filter: drop-shadow(0px 1px 2px rgba(0, 0, 0, 0.3));\n",
       "      fill: #FFFFFF;\n",
       "    }\n",
       "  </style>\n",
       "\n",
       "    <script>\n",
       "      const buttonEl =\n",
       "        document.querySelector('#df-43275814-efa8-4e10-a45e-e22b05a1fb87 button.colab-df-convert');\n",
       "      buttonEl.style.display =\n",
       "        google.colab.kernel.accessAllowed ? 'block' : 'none';\n",
       "\n",
       "      async function convertToInteractive(key) {\n",
       "        const element = document.querySelector('#df-43275814-efa8-4e10-a45e-e22b05a1fb87');\n",
       "        const dataTable =\n",
       "          await google.colab.kernel.invokeFunction('convertToInteractive',\n",
       "                                                    [key], {});\n",
       "        if (!dataTable) return;\n",
       "\n",
       "        const docLinkHtml = 'Like what you see? Visit the ' +\n",
       "          '<a target=\"_blank\" href=https://colab.research.google.com/notebooks/data_table.ipynb>data table notebook</a>'\n",
       "          + ' to learn more about interactive tables.';\n",
       "        element.innerHTML = '';\n",
       "        dataTable['output_type'] = 'display_data';\n",
       "        await google.colab.output.renderOutput(dataTable, element);\n",
       "        const docLink = document.createElement('div');\n",
       "        docLink.innerHTML = docLinkHtml;\n",
       "        element.appendChild(docLink);\n",
       "      }\n",
       "    </script>\n",
       "  </div>\n",
       "\n",
       "\n",
       "<div id=\"df-6176058f-a2df-4f56-9228-38d57fd3c131\">\n",
       "  <button class=\"colab-df-quickchart\" onclick=\"quickchart('df-6176058f-a2df-4f56-9228-38d57fd3c131')\"\n",
       "            title=\"Suggest charts\"\n",
       "            style=\"display:none;\">\n",
       "\n",
       "<svg xmlns=\"http://www.w3.org/2000/svg\" height=\"24px\"viewBox=\"0 0 24 24\"\n",
       "     width=\"24px\">\n",
       "    <g>\n",
       "        <path d=\"M19 3H5c-1.1 0-2 .9-2 2v14c0 1.1.9 2 2 2h14c1.1 0 2-.9 2-2V5c0-1.1-.9-2-2-2zM9 17H7v-7h2v7zm4 0h-2V7h2v10zm4 0h-2v-4h2v4z\"/>\n",
       "    </g>\n",
       "</svg>\n",
       "  </button>\n",
       "\n",
       "<style>\n",
       "  .colab-df-quickchart {\n",
       "      --bg-color: #E8F0FE;\n",
       "      --fill-color: #1967D2;\n",
       "      --hover-bg-color: #E2EBFA;\n",
       "      --hover-fill-color: #174EA6;\n",
       "      --disabled-fill-color: #AAA;\n",
       "      --disabled-bg-color: #DDD;\n",
       "  }\n",
       "\n",
       "  [theme=dark] .colab-df-quickchart {\n",
       "      --bg-color: #3B4455;\n",
       "      --fill-color: #D2E3FC;\n",
       "      --hover-bg-color: #434B5C;\n",
       "      --hover-fill-color: #FFFFFF;\n",
       "      --disabled-bg-color: #3B4455;\n",
       "      --disabled-fill-color: #666;\n",
       "  }\n",
       "\n",
       "  .colab-df-quickchart {\n",
       "    background-color: var(--bg-color);\n",
       "    border: none;\n",
       "    border-radius: 50%;\n",
       "    cursor: pointer;\n",
       "    display: none;\n",
       "    fill: var(--fill-color);\n",
       "    height: 32px;\n",
       "    padding: 0;\n",
       "    width: 32px;\n",
       "  }\n",
       "\n",
       "  .colab-df-quickchart:hover {\n",
       "    background-color: var(--hover-bg-color);\n",
       "    box-shadow: 0 1px 2px rgba(60, 64, 67, 0.3), 0 1px 3px 1px rgba(60, 64, 67, 0.15);\n",
       "    fill: var(--button-hover-fill-color);\n",
       "  }\n",
       "\n",
       "  .colab-df-quickchart-complete:disabled,\n",
       "  .colab-df-quickchart-complete:disabled:hover {\n",
       "    background-color: var(--disabled-bg-color);\n",
       "    fill: var(--disabled-fill-color);\n",
       "    box-shadow: none;\n",
       "  }\n",
       "\n",
       "  .colab-df-spinner {\n",
       "    border: 2px solid var(--fill-color);\n",
       "    border-color: transparent;\n",
       "    border-bottom-color: var(--fill-color);\n",
       "    animation:\n",
       "      spin 1s steps(1) infinite;\n",
       "  }\n",
       "\n",
       "  @keyframes spin {\n",
       "    0% {\n",
       "      border-color: transparent;\n",
       "      border-bottom-color: var(--fill-color);\n",
       "      border-left-color: var(--fill-color);\n",
       "    }\n",
       "    20% {\n",
       "      border-color: transparent;\n",
       "      border-left-color: var(--fill-color);\n",
       "      border-top-color: var(--fill-color);\n",
       "    }\n",
       "    30% {\n",
       "      border-color: transparent;\n",
       "      border-left-color: var(--fill-color);\n",
       "      border-top-color: var(--fill-color);\n",
       "      border-right-color: var(--fill-color);\n",
       "    }\n",
       "    40% {\n",
       "      border-color: transparent;\n",
       "      border-right-color: var(--fill-color);\n",
       "      border-top-color: var(--fill-color);\n",
       "    }\n",
       "    60% {\n",
       "      border-color: transparent;\n",
       "      border-right-color: var(--fill-color);\n",
       "    }\n",
       "    80% {\n",
       "      border-color: transparent;\n",
       "      border-right-color: var(--fill-color);\n",
       "      border-bottom-color: var(--fill-color);\n",
       "    }\n",
       "    90% {\n",
       "      border-color: transparent;\n",
       "      border-bottom-color: var(--fill-color);\n",
       "    }\n",
       "  }\n",
       "</style>\n",
       "\n",
       "  <script>\n",
       "    async function quickchart(key) {\n",
       "      const quickchartButtonEl =\n",
       "        document.querySelector('#' + key + ' button');\n",
       "      quickchartButtonEl.disabled = true;  // To prevent multiple clicks.\n",
       "      quickchartButtonEl.classList.add('colab-df-spinner');\n",
       "      try {\n",
       "        const charts = await google.colab.kernel.invokeFunction(\n",
       "            'suggestCharts', [key], {});\n",
       "      } catch (error) {\n",
       "        console.error('Error during call to suggestCharts:', error);\n",
       "      }\n",
       "      quickchartButtonEl.classList.remove('colab-df-spinner');\n",
       "      quickchartButtonEl.classList.add('colab-df-quickchart-complete');\n",
       "    }\n",
       "    (() => {\n",
       "      let quickchartButtonEl =\n",
       "        document.querySelector('#df-6176058f-a2df-4f56-9228-38d57fd3c131 button');\n",
       "      quickchartButtonEl.style.display =\n",
       "        google.colab.kernel.accessAllowed ? 'block' : 'none';\n",
       "    })();\n",
       "  </script>\n",
       "</div>\n",
       "\n",
       "  <div id=\"id_64d29765-94de-470b-8d49-728698a46b88\">\n",
       "    <style>\n",
       "      .colab-df-generate {\n",
       "        background-color: #E8F0FE;\n",
       "        border: none;\n",
       "        border-radius: 50%;\n",
       "        cursor: pointer;\n",
       "        display: none;\n",
       "        fill: #1967D2;\n",
       "        height: 32px;\n",
       "        padding: 0 0 0 0;\n",
       "        width: 32px;\n",
       "      }\n",
       "\n",
       "      .colab-df-generate:hover {\n",
       "        background-color: #E2EBFA;\n",
       "        box-shadow: 0px 1px 2px rgba(60, 64, 67, 0.3), 0px 1px 3px 1px rgba(60, 64, 67, 0.15);\n",
       "        fill: #174EA6;\n",
       "      }\n",
       "\n",
       "      [theme=dark] .colab-df-generate {\n",
       "        background-color: #3B4455;\n",
       "        fill: #D2E3FC;\n",
       "      }\n",
       "\n",
       "      [theme=dark] .colab-df-generate:hover {\n",
       "        background-color: #434B5C;\n",
       "        box-shadow: 0px 1px 3px 1px rgba(0, 0, 0, 0.15);\n",
       "        filter: drop-shadow(0px 1px 2px rgba(0, 0, 0, 0.3));\n",
       "        fill: #FFFFFF;\n",
       "      }\n",
       "    </style>\n",
       "    <button class=\"colab-df-generate\" onclick=\"generateWithVariable('alunos')\"\n",
       "            title=\"Generate code using this dataframe.\"\n",
       "            style=\"display:none;\">\n",
       "\n",
       "  <svg xmlns=\"http://www.w3.org/2000/svg\" height=\"24px\"viewBox=\"0 0 24 24\"\n",
       "       width=\"24px\">\n",
       "    <path d=\"M7,19H8.4L18.45,9,17,7.55,7,17.6ZM5,21V16.75L18.45,3.32a2,2,0,0,1,2.83,0l1.4,1.43a1.91,1.91,0,0,1,.58,1.4,1.91,1.91,0,0,1-.58,1.4L9.25,21ZM18.45,9,17,7.55Zm-12,3A5.31,5.31,0,0,0,4.9,8.1,5.31,5.31,0,0,0,1,6.5,5.31,5.31,0,0,0,4.9,4.9,5.31,5.31,0,0,0,6.5,1,5.31,5.31,0,0,0,8.1,4.9,5.31,5.31,0,0,0,12,6.5,5.46,5.46,0,0,0,6.5,12Z\"/>\n",
       "  </svg>\n",
       "    </button>\n",
       "    <script>\n",
       "      (() => {\n",
       "      const buttonEl =\n",
       "        document.querySelector('#id_64d29765-94de-470b-8d49-728698a46b88 button.colab-df-generate');\n",
       "      buttonEl.style.display =\n",
       "        google.colab.kernel.accessAllowed ? 'block' : 'none';\n",
       "\n",
       "      buttonEl.onclick = () => {\n",
       "        google.colab.notebook.generateWithVariable('alunos');\n",
       "      }\n",
       "      })();\n",
       "    </script>\n",
       "  </div>\n",
       "\n",
       "    </div>\n",
       "  </div>\n"
      ],
      "text/plain": [
       "      nome  nota\n",
       "0  Aluno 1  10.0\n",
       "1  Aluno 2  10.0\n",
       "2  Aluno 3  10.0\n",
       "3  Aluno 4  10.0\n",
       "4  Aluno 5  10.0"
      ]
     },
     "metadata": {},
     "output_type": "display_data"
    }
   ],
   "source": [
    "#@title **Nota Final**\n",
    "nota = 0.45*Referencial_teorico + 0.45*Pipeline_solucao + 0.10*Cronograma\n",
    "\n",
    "print(f'Nota final do trabalho {nota :.1f}')\n",
    "\n",
    "import numpy as np\n",
    "import pandas as pd\n",
    "\n",
    "alunos = pd.DataFrame()\n",
    "\n",
    "lista_nome = []\n",
    "\n",
    "for i in range(1,6):\n",
    "  exec(\"if Aluno\" + str(i) + \" !='None':  lista = Aluno\" + str(i) + \".split(','); lista_nome.append(lista[0]);\")\n",
    "\n",
    "alunos['nome'] = lista_nome\n",
    "alunos['nota'] = np.round(nota,1)\n",
    "print()\n",
    "display(alunos)"
   ]
  }
 ],
 "metadata": {
  "colab": {
   "provenance": []
  },
  "kernelspec": {
   "display_name": "venv (3.13.7)",
   "language": "python",
   "name": "python3"
  },
  "language_info": {
   "codemirror_mode": {
    "name": "ipython",
    "version": 3
   },
   "file_extension": ".py",
   "mimetype": "text/x-python",
   "name": "python",
   "nbconvert_exporter": "python",
   "pygments_lexer": "ipython3",
   "version": "3.13.7"
  }
 },
 "nbformat": 4,
 "nbformat_minor": 0
}
